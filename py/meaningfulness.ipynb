{
 "cells": [
  {
   "cell_type": "code",
   "execution_count": 113,
   "metadata": {
    "collapsed": true,
    "pycharm": {
     "name": "#%%\n"
    }
   },
   "outputs": [],
   "source": [
    "import string\n",
    "from functools import reduce\n",
    "\n",
    "import numpy as np\n",
    "import pandas as pd\n",
    "import matplotlib.pyplot as plt\n",
    "from numpy.random import randint\n",
    "from random import seed,random\n",
    "import plotly.express as px\n",
    "from IPython.display import display\n",
    "from pandas import DataFrame\n",
    "from sklearn.cluster import KMeans, AgglomerativeClustering\n",
    "from sklearn.mixture import GaussianMixture\n",
    "from sklearn.preprocessing import MinMaxScaler, StandardScaler\n"
   ]
  },
  {
   "cell_type": "code",
   "execution_count": 114,
   "outputs": [],
   "source": [
    "def create_random_walk(ts: np.array):\n",
    "    \"\"\"\n",
    "\n",
    "    :param ts:\n",
    "    :return:\n",
    "    \"\"\"\n",
    "    ma = np.amax(ts)\n",
    "    mi = np.amin(ts)\n",
    "    seed(randint(mi,ma))\n",
    "    random_walk = list()\n",
    "\n",
    "    random_walk.append(randint(mi,ma))\n",
    "    for i in range(1, ts.shape[0]):\n",
    "\t    r = randint(0,9)\n",
    "\t    movement = r if random() < 0.5 else -r\n",
    "\t    value = random_walk[i-1] + movement\n",
    "\t    random_walk.append(value)\n",
    "\n",
    "    return np.array(random_walk)"
   ],
   "metadata": {
    "collapsed": false,
    "pycharm": {
     "name": "#%%\n"
    }
   }
  },
  {
   "cell_type": "code",
   "execution_count": 115,
   "outputs": [],
   "source": [
    "def to_sts_matrix(ts: np.array, w: int):\n",
    "    shape = ts.shape[:-1] + (ts.shape[-1] - w + 1, w)\n",
    "    strides = ts.strides + (ts.strides[-1],)\n",
    "    return np.lib.stride_tricks.as_strided(ts, shape=shape, strides=strides)\n",
    "\n",
    "\n",
    "def to_random_sampling_matrix(ts: np.array, w: int, reduced_sampling_size=False):\n",
    "    m = ts.shape[0]\n",
    "    data_matrix = np.zeros((m - w + 1, w), dtype=int)\n",
    "\n",
    "    num_samples = m//w if reduced_sampling_size else m - w + 1\n",
    "    for i in range(num_samples):\n",
    "        r = randint(0, m - w)\n",
    "        for j in range(w):\n",
    "            data_matrix[i][j] = ts[r+j]\n",
    "\n",
    "    return data_matrix"
   ],
   "metadata": {
    "collapsed": false,
    "pycharm": {
     "name": "#%%\n"
    }
   }
  },
  {
   "cell_type": "code",
   "execution_count": 116,
   "outputs": [],
   "source": [
    "def cluster_distance(a: np.array, b: np.array, dist_metric_name: string):\n",
    "    \"\"\"\n",
    "\n",
    "    :param dist_metric_name:\n",
    "    :param a: cluster centres derived from one run of clustering algor (shape: [k,w])\n",
    "    :param b: cluster centres derived from different run of clustering algor (shape: [k,w])\n",
    "    :return:\n",
    "    \"\"\"\n",
    "    assert a.shape[1] != 0\n",
    "    summ = 0\n",
    "    n = a.shape[0]\n",
    "\n",
    "    for i in range(n):\n",
    "        f = lambda x: distance_metric(a[i],x,dist_metric_name)\n",
    "        summ += np.amin(np.array(list(map(f,b))))\n",
    "\n",
    "    return summ\n",
    "\n",
    "\n",
    "def within_set_distance(x: np.array, dist_metric_name: string):\n",
    "    \"\"\"\n",
    "\n",
    "    :param dist_metric_name:\n",
    "    :param x: set of cluster centers (shape: [n,k,w])\n",
    "    :return:\n",
    "    \"\"\"\n",
    "    n = x.shape[0]\n",
    "    summ = 0\n",
    "    for i in range(n):\n",
    "        for j in range(n):\n",
    "            summ += cluster_distance(x[i], x[j], dist_metric_name)\n",
    "    return summ/n**2\n",
    "\n",
    "\n",
    "def between_set_distance(x: np.array, y: np.array, dist_metric_name: string):\n",
    "    \"\"\"\n",
    "\n",
    "    :param dist_metric_name:\n",
    "    :param x:\n",
    "    :param y:\n",
    "    :return:\n",
    "    \"\"\"\n",
    "    n = x.shape[0]\n",
    "    m = y.shape[0]\n",
    "    summ = 0\n",
    "    for i in range(n):\n",
    "        for j in range(m):\n",
    "            summ += cluster_distance(x[i], y[j], dist_metric_name)\n",
    "    return summ/(n*m)\n",
    "\n",
    "\n",
    "def clustering_meaningfulness(x: np.array, y: np.array, dist_metric_name: string):\n",
    "    \"\"\"\n",
    "\n",
    "    :param dist_metric_name:\n",
    "    :param x:\n",
    "    :param y:\n",
    "    :return:\n",
    "    \"\"\"\n",
    "    return within_set_distance(x,dist_metric_name)/between_set_distance(x,y,dist_metric_name)"
   ],
   "metadata": {
    "collapsed": false,
    "pycharm": {
     "name": "#%%\n"
    }
   }
  },
  {
   "cell_type": "code",
   "execution_count": 117,
   "outputs": [],
   "source": [
    "def calculate_meaningfulness(ts: np.array, random_walk: np.array, n: int, k: int, w: int, r: int, normalizer: string, dist_metric_name: string, cluster_algor_name: string, reduced_sampling_size: bool):\n",
    "    \"\"\"\n",
    "\n",
    "    :param normalizer:\n",
    "    :param reduced_sampling_size:\n",
    "    :param dist_metric_name:\n",
    "    :param cluster_algor_name:\n",
    "    :param random_walk:\n",
    "    :param ts:\n",
    "    :param n:\n",
    "    :param k:\n",
    "    :param w:\n",
    "    :param r:\n",
    "    :return:\n",
    "    \"\"\"\n",
    "    meaningfulness_sts = 0\n",
    "    meaningfulness_whole = 0\n",
    "\n",
    "    sts_ts_matrix = to_sts_matrix(ts, w)\n",
    "    sts_ts_matrix = scale_feature_matrix(sts_ts_matrix, normalizer)\n",
    "\n",
    "    whole_ts_matrix = to_random_sampling_matrix(ts, w, reduced_sampling_size)\n",
    "    whole_ts_matrix = scale_feature_matrix(whole_ts_matrix, normalizer)\n",
    "\n",
    "    sts_random_matrix = to_sts_matrix(random_walk, w)\n",
    "    sts_random_matrix = scale_feature_matrix(sts_random_matrix, normalizer)\n",
    "\n",
    "    whole_random_matrix = to_random_sampling_matrix(random_walk, w, reduced_sampling_size)\n",
    "    whole_random_matrix = scale_feature_matrix(whole_random_matrix, normalizer)\n",
    "\n",
    "    for _ in range(n):\n",
    "        sts_ts_kmeans_centers = np.zeros((r,k,w))\n",
    "        whole_ts_kmeans_centers = np.zeros((r,k,w))\n",
    "        sts_random_kmeans_centers = np.zeros((r,k,w))\n",
    "        whole_random_kmeans_centers = np.zeros((r,k,w))\n",
    "\n",
    "        for i in range(r):\n",
    "            sts_ts_kmeans_centers[i] = cluster_functions(sts_ts_matrix,k,cluster_algor_name)\n",
    "            whole_ts_kmeans_centers[i] = cluster_functions(whole_ts_matrix,k,cluster_algor_name)\n",
    "            sts_random_kmeans_centers[i] = cluster_functions(sts_random_matrix,k,cluster_algor_name)\n",
    "            whole_random_kmeans_centers[i] = cluster_functions(whole_random_matrix,k,cluster_algor_name)\n",
    "\n",
    "        meaningfulness_sts += clustering_meaningfulness(sts_ts_kmeans_centers, sts_random_kmeans_centers, dist_metric_name)\n",
    "        meaningfulness_whole += clustering_meaningfulness(whole_ts_kmeans_centers, whole_random_kmeans_centers, dist_metric_name)\n",
    "\n",
    "    return meaningfulness_sts/n, meaningfulness_whole/n"
   ],
   "metadata": {
    "collapsed": false,
    "pycharm": {
     "name": "#%%\n"
    }
   }
  },
  {
   "cell_type": "code",
   "execution_count": 119,
   "outputs": [],
   "source": [
    "def distance_metric(v: np.array, w: np.array, metric_name='eukl'):\n",
    "    if metric_name == 'eukl':\n",
    "        return np.linalg.norm(v-w)"
   ],
   "metadata": {
    "collapsed": false,
    "pycharm": {
     "name": "#%%\n"
    }
   }
  },
  {
   "cell_type": "code",
   "execution_count": 120,
   "outputs": [],
   "source": [
    "def scale_feature_matrix(m: np.array, typ=\"none\"):\n",
    "    if typ == \"none\":\n",
    "        return m\n",
    "    if typ == \"snd\":\n",
    "        scaler = StandardScaler()\n",
    "        return scaler.fit_transform(m)\n",
    "    if typ == \"min-max\":\n",
    "        scaler = MinMaxScaler()\n",
    "        return scaler.fit_transform(m)"
   ],
   "metadata": {
    "collapsed": false,
    "pycharm": {
     "name": "#%%\n"
    }
   }
  },
  {
   "cell_type": "code",
   "execution_count": 125,
   "outputs": [],
   "source": [
    "# kmeans init: 'random' or 'k-means++'\n",
    "# gmm init_param: 'kmeans' or 'random'\n",
    "def cluster_functions(feature_matrix: np.array, k: int, algor_name='kmeans'):\n",
    "    if algor_name == 'kmeans':\n",
    "        return KMeans(n_clusters=k, init='random', n_init=1, max_iter=100).fit(feature_matrix).cluster_centers_\n",
    "\n",
    "    if algor_name == 'agglo':\n",
    "        labels = AgglomerativeClustering(n_clusters=k).fit(feature_matrix).labels_\n",
    "        counts = np.zeros(k)\n",
    "        centroids = np.zeros((k,feature_matrix.shape[1]))\n",
    "        for l,v in zip(labels,feature_matrix):\n",
    "            counts[l] += 1\n",
    "            centroids[l] += v\n",
    "        for i in range(k):\n",
    "            centroids[i] /= counts[i]\n",
    "        return centroids\n",
    "\n",
    "    if algor_name == 'gmm':\n",
    "        return GaussianMixture(n_components=k, max_iter=100, init_params='kmeans').fit(feature_matrix).means_"
   ],
   "metadata": {
    "collapsed": false,
    "pycharm": {
     "name": "#%%\n"
    }
   }
  },
  {
   "cell_type": "markdown",
   "source": [
    "### Importing S&P 500 Daily time series"
   ],
   "metadata": {
    "collapsed": false,
    "pycharm": {
     "name": "#%% md\n"
    }
   }
  },
  {
   "cell_type": "code",
   "execution_count": 189,
   "outputs": [
    {
     "data": {
      "text/plain": "<Figure size 432x288 with 1 Axes>",
      "image/png": "[encoded data removed]"
     },
     "metadata": {
      "needs_background": "light"
     },
     "output_type": "display_data"
    },
    {
     "name": "stdout",
     "output_type": "stream",
     "text": [
      "Length: 2560\n"
     ]
    }
   ],
   "source": [
    "spx_short = pd.read_csv('../data/spx_daily_11-21.csv', usecols=[0,1])\n",
    "spx_short['Close/Last']=spx_short['Close/Last'].astype(int)\n",
    "spx_short=spx_short.iloc[::-1]\n",
    "spx_short.plot(x='Date', y='Close/Last')\n",
    "plt.show()\n",
    "np_spx_short = spx_short['Close/Last'].to_numpy()\n",
    "print('Length: '+str(np_spx_short.shape[0]))"
   ],
   "metadata": {
    "collapsed": false,
    "pycharm": {
     "name": "#%%\n"
    }
   }
  },
  {
   "cell_type": "markdown",
   "source": [
    "### Importing S&P 500 all time Monthly time series over 200 years"
   ],
   "metadata": {
    "collapsed": false,
    "pycharm": {
     "name": "#%% md\n"
    }
   }
  },
  {
   "cell_type": "code",
   "execution_count": 188,
   "outputs": [
    {
     "data": {
      "text/plain": "<Figure size 432x288 with 1 Axes>",
      "image/png": "[encoded data removed]"
     },
     "metadata": {
      "needs_background": "light"
     },
     "output_type": "display_data"
    },
    {
     "name": "stdout",
     "output_type": "stream",
     "text": [
      "Length: 1768\n"
     ]
    }
   ],
   "source": [
    "spx_long = pd.read_csv('../data/spx_monthly_alltime.csv', usecols=[0,1])\n",
    "spx_long.plot(x='Date', y='SP500')\n",
    "plt.show()\n",
    "np_spx_long = spx_long['SP500'].to_numpy()\n",
    "print('Length: '+str(np_spx_long.shape[0]))"
   ],
   "metadata": {
    "collapsed": false,
    "pycharm": {
     "name": "#%%\n"
    }
   }
  },
  {
   "cell_type": "markdown",
   "source": [
    "### Importing minimum temperature dataset"
   ],
   "metadata": {
    "collapsed": false,
    "pycharm": {
     "name": "#%% md\n"
    }
   }
  },
  {
   "cell_type": "code",
   "execution_count": 187,
   "outputs": [
    {
     "data": {
      "text/plain": "<Figure size 432x288 with 1 Axes>",
      "image/png": "[encoded data removed]"
     },
     "metadata": {
      "needs_background": "light"
     },
     "output_type": "display_data"
    },
    {
     "name": "stdout",
     "output_type": "stream",
     "text": [
      "Length: 3650\n"
     ]
    }
   ],
   "source": [
    "min_daily_temp = pd.read_csv('../data/daily-minimum-temperatures-in-melbourne.csv',usecols=[0,1])\n",
    "min_daily_temp['Temp'] = min_daily_temp['Temp'].apply(pd.to_numeric,errors='coerce')\n",
    "min_daily_temp.plot(x='Date', y='Temp')\n",
    "plt.show()\n",
    "np_min_daily_temp = min_daily_temp['Temp'].to_numpy()\n",
    "print('Length: '+str(np_min_daily_temp.shape[0]))"
   ],
   "metadata": {
    "collapsed": false,
    "pycharm": {
     "name": "#%%\n"
    }
   }
  },
  {
   "cell_type": "code",
   "execution_count": 127,
   "outputs": [
    {
     "name": "stdout",
     "output_type": "stream",
     "text": [
      "n: 1, r: 3\n",
      "k=3, w=8 -- STS: 8.344869077345006e-14, Whole: 0.4005978879734342\n",
      "k=3, w=16 -- STS: 0.2070272671481339, Whole: 0.17859736165530488\n",
      "k=3, w=32 -- STS: 0.2194672527173748, Whole: 1.6820905461584305e-06\n",
      "k=5, w=8 -- STS: 0.25422596040218515, Whole: 0.24180298588787005\n",
      "k=5, w=16 -- STS: 0.4979925939715588, Whole: 0.6977456490812735\n",
      "k=5, w=32 -- STS: 0.207797657993937, Whole: 0.6470393137296999\n",
      "k=7, w=8 -- STS: 0.015234532625827364, Whole: 5.901989660196362e-13\n",
      "k=7, w=16 -- STS: 0.5016559848693106, Whole: 0.4913808244487586\n",
      "k=7, w=32 -- STS: 0.21363085874348453, Whole: 0.4797312268963865\n",
      "k=11, w=8 -- STS: 0.2705025524630581, Whole: 0.3869405279535895\n",
      "k=11, w=16 -- STS: 0.3711492685335204, Whole: 0.47329577888024504\n",
      "k=11, w=32 -- STS: 0.43080663173070866, Whole: 0.3388909833571151\n"
     ]
    },
    {
     "data": {
      "text/plain": "    window_size   k  meaningfulness_sts  meaningfulness_whole\n0             8   3        8.344869e-14          4.005979e-01\n1            16   3        2.070273e-01          1.785974e-01\n2            32   3        2.194673e-01          1.682091e-06\n3             8   5        2.542260e-01          2.418030e-01\n4            16   5        4.979926e-01          6.977456e-01\n5            32   5        2.077977e-01          6.470393e-01\n6             8   7        1.523453e-02          5.901990e-13\n7            16   7        5.016560e-01          4.913808e-01\n8            32   7        2.136309e-01          4.797312e-01\n9             8  11        2.705026e-01          3.869405e-01\n10           16  11        3.711493e-01          4.732958e-01\n11           32  11        4.308066e-01          3.388910e-01",
      "text/html": "<div>\n<style scoped>\n    .dataframe tbody tr th:only-of-type {\n        vertical-align: middle;\n    }\n\n    .dataframe tbody tr th {\n        vertical-align: top;\n    }\n\n    .dataframe thead th {\n        text-align: right;\n    }\n</style>\n<table border=\"1\" class=\"dataframe\">\n  <thead>\n    <tr style=\"text-align: right;\">\n      <th></th>\n      <th>window_size</th>\n      <th>k</th>\n      <th>meaningfulness_sts</th>\n      <th>meaningfulness_whole</th>\n    </tr>\n  </thead>\n  <tbody>\n    <tr>\n      <th>0</th>\n      <td>8</td>\n      <td>3</td>\n      <td>8.344869e-14</td>\n      <td>4.005979e-01</td>\n    </tr>\n    <tr>\n      <th>1</th>\n      <td>16</td>\n      <td>3</td>\n      <td>2.070273e-01</td>\n      <td>1.785974e-01</td>\n    </tr>\n    <tr>\n      <th>2</th>\n      <td>32</td>\n      <td>3</td>\n      <td>2.194673e-01</td>\n      <td>1.682091e-06</td>\n    </tr>\n    <tr>\n      <th>3</th>\n      <td>8</td>\n      <td>5</td>\n      <td>2.542260e-01</td>\n      <td>2.418030e-01</td>\n    </tr>\n    <tr>\n      <th>4</th>\n      <td>16</td>\n      <td>5</td>\n      <td>4.979926e-01</td>\n      <td>6.977456e-01</td>\n    </tr>\n    <tr>\n      <th>5</th>\n      <td>32</td>\n      <td>5</td>\n      <td>2.077977e-01</td>\n      <td>6.470393e-01</td>\n    </tr>\n    <tr>\n      <th>6</th>\n      <td>8</td>\n      <td>7</td>\n      <td>1.523453e-02</td>\n      <td>5.901990e-13</td>\n    </tr>\n    <tr>\n      <th>7</th>\n      <td>16</td>\n      <td>7</td>\n      <td>5.016560e-01</td>\n      <td>4.913808e-01</td>\n    </tr>\n    <tr>\n      <th>8</th>\n      <td>32</td>\n      <td>7</td>\n      <td>2.136309e-01</td>\n      <td>4.797312e-01</td>\n    </tr>\n    <tr>\n      <th>9</th>\n      <td>8</td>\n      <td>11</td>\n      <td>2.705026e-01</td>\n      <td>3.869405e-01</td>\n    </tr>\n    <tr>\n      <th>10</th>\n      <td>16</td>\n      <td>11</td>\n      <td>3.711493e-01</td>\n      <td>4.732958e-01</td>\n    </tr>\n    <tr>\n      <th>11</th>\n      <td>32</td>\n      <td>11</td>\n      <td>4.308066e-01</td>\n      <td>3.388910e-01</td>\n    </tr>\n  </tbody>\n</table>\n</div>"
     },
     "metadata": {},
     "output_type": "display_data"
    },
    {
     "data": {
      "application/vnd.plotly.v1+json": {
       "config": {
        "plotlyServerURL": "https://plot.ly"
       },
       "data": [
        {
         "alignmentgroup": "True",
         "hovertemplate": "variable=meaningfulness_sts<br>window_size=8<br>k=%{x}<br>value=%{y}<extra></extra>",
         "legendgroup": "meaningfulness_sts",
         "marker": {
          "color": "#636efa"
         },
         "name": "meaningfulness_sts",
         "offsetgroup": "meaningfulness_sts",
         "orientation": "v",
         "showlegend": true,
         "textposition": "auto",
         "type": "bar",
         "x": [
          3,
          5,
          7,
          11
         ],
         "xaxis": "x",
         "y": [
          8.344869077345006E-14,
          0.25422596040218515,
          0.015234532625827364,
          0.2705025524630581
         ],
         "yaxis": "y"
        },
        {
         "alignmentgroup": "True",
         "hovertemplate": "variable=meaningfulness_sts<br>window_size=16<br>k=%{x}<br>value=%{y}<extra></extra>",
         "legendgroup": "meaningfulness_sts",
         "marker": {
          "color": "#636efa"
         },
         "name": "meaningfulness_sts",
         "offsetgroup": "meaningfulness_sts",
         "orientation": "v",
         "showlegend": false,
         "textposition": "auto",
         "type": "bar",
         "x": [
          3,
          5,
          7,
          11
         ],
         "xaxis": "x2",
         "y": [
          0.2070272671481339,
          0.4979925939715588,
          0.5016559848693106,
          0.3711492685335204
         ],
         "yaxis": "y2"
        },
        {
         "alignmentgroup": "True",
         "hovertemplate": "variable=meaningfulness_sts<br>window_size=32<br>k=%{x}<br>value=%{y}<extra></extra>",
         "legendgroup": "meaningfulness_sts",
         "marker": {
          "color": "#636efa"
         },
         "name": "meaningfulness_sts",
         "offsetgroup": "meaningfulness_sts",
         "orientation": "v",
         "showlegend": false,
         "textposition": "auto",
         "type": "bar",
         "x": [
          3,
          5,
          7,
          11
         ],
         "xaxis": "x3",
         "y": [
          0.2194672527173748,
          0.207797657993937,
          0.21363085874348453,
          0.43080663173070866
         ],
         "yaxis": "y3"
        },
        {
         "alignmentgroup": "True",
         "hovertemplate": "variable=meaningfulness_whole<br>window_size=8<br>k=%{x}<br>value=%{y}<extra></extra>",
         "legendgroup": "meaningfulness_whole",
         "marker": {
          "color": "#EF553B"
         },
         "name": "meaningfulness_whole",
         "offsetgroup": "meaningfulness_whole",
         "orientation": "v",
         "showlegend": true,
         "textposition": "auto",
         "type": "bar",
         "x": [
          3,
          5,
          7,
          11
         ],
         "xaxis": "x",
         "y": [
          0.4005978879734342,
          0.24180298588787005,
          5.901989660196362E-13,
          0.3869405279535895
         ],
         "yaxis": "y"
        },
        {
         "alignmentgroup": "True",
         "hovertemplate": "variable=meaningfulness_whole<br>window_size=16<br>k=%{x}<br>value=%{y}<extra></extra>",
         "legendgroup": "meaningfulness_whole",
         "marker": {
          "color": "#EF553B"
         },
         "name": "meaningfulness_whole",
         "offsetgroup": "meaningfulness_whole",
         "orientation": "v",
         "showlegend": false,
         "textposition": "auto",
         "type": "bar",
         "x": [
          3,
          5,
          7,
          11
         ],
         "xaxis": "x2",
         "y": [
          0.17859736165530488,
          0.6977456490812735,
          0.4913808244487586,
          0.47329577888024504
         ],
         "yaxis": "y2"
        },
        {
         "alignmentgroup": "True",
         "hovertemplate": "variable=meaningfulness_whole<br>window_size=32<br>k=%{x}<br>value=%{y}<extra></extra>",
         "legendgroup": "meaningfulness_whole",
         "marker": {
          "color": "#EF553B"
         },
         "name": "meaningfulness_whole",
         "offsetgroup": "meaningfulness_whole",
         "orientation": "v",
         "showlegend": false,
         "textposition": "auto",
         "type": "bar",
         "x": [
          3,
          5,
          7,
          11
         ],
         "xaxis": "x3",
         "y": [
          1.6820905461584305E-6,
          0.6470393137296999,
          0.4797312268963865,
          0.3388909833571151
         ],
         "yaxis": "y3"
        }
       ],
       "layout": {
        "annotations": [
         {
          "font": {},
          "showarrow": false,
          "text": "window_size=8",
          "x": 0.15999999999999998,
          "xanchor": "center",
          "xref": "paper",
          "y": 1.0,
          "yanchor": "bottom",
          "yref": "paper"
         },
         {
          "font": {},
          "showarrow": false,
          "text": "window_size=16",
          "x": 0.49999999999999994,
          "xanchor": "center",
          "xref": "paper",
          "y": 1.0,
          "yanchor": "bottom",
          "yref": "paper"
         },
         {
          "font": {},
          "showarrow": false,
          "text": "window_size=32",
          "x": 0.8399999999999999,
          "xanchor": "center",
          "xref": "paper",
          "y": 1.0,
          "yanchor": "bottom",
          "yref": "paper"
         }
        ],
        "barmode": "group",
        "legend": {
         "title": {
          "text": "variable"
         },
         "tracegroupgap": 0
        },
        "margin": {
         "t": 60
        },
        "template": {
         "data": {
          "bar": [
           {
            "error_x": {
             "color": "#2a3f5f"
            },
            "error_y": {
             "color": "#2a3f5f"
            },
            "marker": {
             "line": {
              "color": "#E5ECF6",
              "width": 0.5
             }
            },
            "type": "bar"
           }
          ],
          "barpolar": [
           {
            "marker": {
             "line": {
              "color": "#E5ECF6",
              "width": 0.5
             }
            },
            "type": "barpolar"
           }
          ],
          "carpet": [
           {
            "aaxis": {
             "endlinecolor": "#2a3f5f",
             "gridcolor": "white",
             "linecolor": "white",
             "minorgridcolor": "white",
             "startlinecolor": "#2a3f5f"
            },
            "baxis": {
             "endlinecolor": "#2a3f5f",
             "gridcolor": "white",
             "linecolor": "white",
             "minorgridcolor": "white",
             "startlinecolor": "#2a3f5f"
            },
            "type": "carpet"
           }
          ],
          "choropleth": [
           {
            "colorbar": {
             "outlinewidth": 0,
             "ticks": ""
            },
            "type": "choropleth"
           }
          ],
          "contour": [
           {
            "colorbar": {
             "outlinewidth": 0,
             "ticks": ""
            },
            "colorscale": [
             [
              0.0,
              "#0d0887"
             ],
             [
              0.1111111111111111,
              "#46039f"
             ],
             [
              0.2222222222222222,
              "#7201a8"
             ],
             [
              0.3333333333333333,
              "#9c179e"
             ],
             [
              0.4444444444444444,
              "#bd3786"
             ],
             [
              0.5555555555555556,
              "#d8576b"
             ],
             [
              0.6666666666666666,
              "#ed7953"
             ],
             [
              0.7777777777777778,
              "#fb9f3a"
             ],
             [
              0.8888888888888888,
              "#fdca26"
             ],
             [
              1.0,
              "#f0f921"
             ]
            ],
            "type": "contour"
           }
          ],
          "contourcarpet": [
           {
            "colorbar": {
             "outlinewidth": 0,
             "ticks": ""
            },
            "type": "contourcarpet"
           }
          ],
          "heatmap": [
           {
            "colorbar": {
             "outlinewidth": 0,
             "ticks": ""
            },
            "colorscale": [
             [
              0.0,
              "#0d0887"
             ],
             [
              0.1111111111111111,
              "#46039f"
             ],
             [
              0.2222222222222222,
              "#7201a8"
             ],
             [
              0.3333333333333333,
              "#9c179e"
             ],
             [
              0.4444444444444444,
              "#bd3786"
             ],
             [
              0.5555555555555556,
              "#d8576b"
             ],
             [
              0.6666666666666666,
              "#ed7953"
             ],
             [
              0.7777777777777778,
              "#fb9f3a"
             ],
             [
              0.8888888888888888,
              "#fdca26"
             ],
             [
              1.0,
              "#f0f921"
             ]
            ],
            "type": "heatmap"
           }
          ],
          "heatmapgl": [
           {
            "colorbar": {
             "outlinewidth": 0,
             "ticks": ""
            },
            "colorscale": [
             [
              0.0,
              "#0d0887"
             ],
             [
              0.1111111111111111,
              "#46039f"
             ],
             [
              0.2222222222222222,
              "#7201a8"
             ],
             [
              0.3333333333333333,
              "#9c179e"
             ],
             [
              0.4444444444444444,
              "#bd3786"
             ],
             [
              0.5555555555555556,
              "#d8576b"
             ],
             [
              0.6666666666666666,
              "#ed7953"
             ],
             [
              0.7777777777777778,
              "#fb9f3a"
             ],
             [
              0.8888888888888888,
              "#fdca26"
             ],
             [
              1.0,
              "#f0f921"
             ]
            ],
            "type": "heatmapgl"
           }
          ],
          "histogram": [
           {
            "marker": {
             "colorbar": {
              "outlinewidth": 0,
              "ticks": ""
             }
            },
            "type": "histogram"
           }
          ],
          "histogram2d": [
           {
            "colorbar": {
             "outlinewidth": 0,
             "ticks": ""
            },
            "colorscale": [
             [
              0.0,
              "#0d0887"
             ],
             [
              0.1111111111111111,
              "#46039f"
             ],
             [
              0.2222222222222222,
              "#7201a8"
             ],
             [
              0.3333333333333333,
              "#9c179e"
             ],
             [
              0.4444444444444444,
              "#bd3786"
             ],
             [
              0.5555555555555556,
              "#d8576b"
             ],
             [
              0.6666666666666666,
              "#ed7953"
             ],
             [
              0.7777777777777778,
              "#fb9f3a"
             ],
             [
              0.8888888888888888,
              "#fdca26"
             ],
             [
              1.0,
              "#f0f921"
             ]
            ],
            "type": "histogram2d"
           }
          ],
          "histogram2dcontour": [
           {
            "colorbar": {
             "outlinewidth": 0,
             "ticks": ""
            },
            "colorscale": [
             [
              0.0,
              "#0d0887"
             ],
             [
              0.1111111111111111,
              "#46039f"
             ],
             [
              0.2222222222222222,
              "#7201a8"
             ],
             [
              0.3333333333333333,
              "#9c179e"
             ],
             [
              0.4444444444444444,
              "#bd3786"
             ],
             [
              0.5555555555555556,
              "#d8576b"
             ],
             [
              0.6666666666666666,
              "#ed7953"
             ],
             [
              0.7777777777777778,
              "#fb9f3a"
             ],
             [
              0.8888888888888888,
              "#fdca26"
             ],
             [
              1.0,
              "#f0f921"
             ]
            ],
            "type": "histogram2dcontour"
           }
          ],
          "mesh3d": [
           {
            "colorbar": {
             "outlinewidth": 0,
             "ticks": ""
            },
            "type": "mesh3d"
           }
          ],
          "parcoords": [
           {
            "line": {
             "colorbar": {
              "outlinewidth": 0,
              "ticks": ""
             }
            },
            "type": "parcoords"
           }
          ],
          "pie": [
           {
            "automargin": true,
            "type": "pie"
           }
          ],
          "scatter": [
           {
            "marker": {
             "colorbar": {
              "outlinewidth": 0,
              "ticks": ""
             }
            },
            "type": "scatter"
           }
          ],
          "scatter3d": [
           {
            "line": {
             "colorbar": {
              "outlinewidth": 0,
              "ticks": ""
             }
            },
            "marker": {
             "colorbar": {
              "outlinewidth": 0,
              "ticks": ""
             }
            },
            "type": "scatter3d"
           }
          ],
          "scattercarpet": [
           {
            "marker": {
             "colorbar": {
              "outlinewidth": 0,
              "ticks": ""
             }
            },
            "type": "scattercarpet"
           }
          ],
          "scattergeo": [
           {
            "marker": {
             "colorbar": {
              "outlinewidth": 0,
              "ticks": ""
             }
            },
            "type": "scattergeo"
           }
          ],
          "scattergl": [
           {
            "marker": {
             "colorbar": {
              "outlinewidth": 0,
              "ticks": ""
             }
            },
            "type": "scattergl"
           }
          ],
          "scattermapbox": [
           {
            "marker": {
             "colorbar": {
              "outlinewidth": 0,
              "ticks": ""
             }
            },
            "type": "scattermapbox"
           }
          ],
          "scatterpolar": [
           {
            "marker": {
             "colorbar": {
              "outlinewidth": 0,
              "ticks": ""
             }
            },
            "type": "scatterpolar"
           }
          ],
          "scatterpolargl": [
           {
            "marker": {
             "colorbar": {
              "outlinewidth": 0,
              "ticks": ""
             }
            },
            "type": "scatterpolargl"
           }
          ],
          "scatterternary": [
           {
            "marker": {
             "colorbar": {
              "outlinewidth": 0,
              "ticks": ""
             }
            },
            "type": "scatterternary"
           }
          ],
          "surface": [
           {
            "colorbar": {
             "outlinewidth": 0,
             "ticks": ""
            },
            "colorscale": [
             [
              0.0,
              "#0d0887"
             ],
             [
              0.1111111111111111,
              "#46039f"
             ],
             [
              0.2222222222222222,
              "#7201a8"
             ],
             [
              0.3333333333333333,
              "#9c179e"
             ],
             [
              0.4444444444444444,
              "#bd3786"
             ],
             [
              0.5555555555555556,
              "#d8576b"
             ],
             [
              0.6666666666666666,
              "#ed7953"
             ],
             [
              0.7777777777777778,
              "#fb9f3a"
             ],
             [
              0.8888888888888888,
              "#fdca26"
             ],
             [
              1.0,
              "#f0f921"
             ]
            ],
            "type": "surface"
           }
          ],
          "table": [
           {
            "cells": {
             "fill": {
              "color": "#EBF0F8"
             },
             "line": {
              "color": "white"
             }
            },
            "header": {
             "fill": {
              "color": "#C8D4E3"
             },
             "line": {
              "color": "white"
             }
            },
            "type": "table"
           }
          ]
         },
         "layout": {
          "annotationdefaults": {
           "arrowcolor": "#2a3f5f",
           "arrowhead": 0,
           "arrowwidth": 1
          },
          "autotypenumbers": "strict",
          "coloraxis": {
           "colorbar": {
            "outlinewidth": 0,
            "ticks": ""
           }
          },
          "colorscale": {
           "diverging": [
            [
             0,
             "#8e0152"
            ],
            [
             0.1,
             "#c51b7d"
            ],
            [
             0.2,
             "#de77ae"
            ],
            [
             0.3,
             "#f1b6da"
            ],
            [
             0.4,
             "#fde0ef"
            ],
            [
             0.5,
             "#f7f7f7"
            ],
            [
             0.6,
             "#e6f5d0"
            ],
            [
             0.7,
             "#b8e186"
            ],
            [
             0.8,
             "#7fbc41"
            ],
            [
             0.9,
             "#4d9221"
            ],
            [
             1,
             "#276419"
            ]
           ],
           "sequential": [
            [
             0.0,
             "#0d0887"
            ],
            [
             0.1111111111111111,
             "#46039f"
            ],
            [
             0.2222222222222222,
             "#7201a8"
            ],
            [
             0.3333333333333333,
             "#9c179e"
            ],
            [
             0.4444444444444444,
             "#bd3786"
            ],
            [
             0.5555555555555556,
             "#d8576b"
            ],
            [
             0.6666666666666666,
             "#ed7953"
            ],
            [
             0.7777777777777778,
             "#fb9f3a"
            ],
            [
             0.8888888888888888,
             "#fdca26"
            ],
            [
             1.0,
             "#f0f921"
            ]
           ],
           "sequentialminus": [
            [
             0.0,
             "#0d0887"
            ],
            [
             0.1111111111111111,
             "#46039f"
            ],
            [
             0.2222222222222222,
             "#7201a8"
            ],
            [
             0.3333333333333333,
             "#9c179e"
            ],
            [
             0.4444444444444444,
             "#bd3786"
            ],
            [
             0.5555555555555556,
             "#d8576b"
            ],
            [
             0.6666666666666666,
             "#ed7953"
            ],
            [
             0.7777777777777778,
             "#fb9f3a"
            ],
            [
             0.8888888888888888,
             "#fdca26"
            ],
            [
             1.0,
             "#f0f921"
            ]
           ]
          },
          "colorway": [
           "#636efa",
           "#EF553B",
           "#00cc96",
           "#ab63fa",
           "#FFA15A",
           "#19d3f3",
           "#FF6692",
           "#B6E880",
           "#FF97FF",
           "#FECB52"
          ],
          "font": {
           "color": "#2a3f5f"
          },
          "geo": {
           "bgcolor": "white",
           "lakecolor": "white",
           "landcolor": "#E5ECF6",
           "showlakes": true,
           "showland": true,
           "subunitcolor": "white"
          },
          "hoverlabel": {
           "align": "left"
          },
          "hovermode": "closest",
          "mapbox": {
           "style": "light"
          },
          "paper_bgcolor": "white",
          "plot_bgcolor": "#E5ECF6",
          "polar": {
           "angularaxis": {
            "gridcolor": "white",
            "linecolor": "white",
            "ticks": ""
           },
           "bgcolor": "#E5ECF6",
           "radialaxis": {
            "gridcolor": "white",
            "linecolor": "white",
            "ticks": ""
           }
          },
          "scene": {
           "xaxis": {
            "backgroundcolor": "#E5ECF6",
            "gridcolor": "white",
            "gridwidth": 2,
            "linecolor": "white",
            "showbackground": true,
            "ticks": "",
            "zerolinecolor": "white"
           },
           "yaxis": {
            "backgroundcolor": "#E5ECF6",
            "gridcolor": "white",
            "gridwidth": 2,
            "linecolor": "white",
            "showbackground": true,
            "ticks": "",
            "zerolinecolor": "white"
           },
           "zaxis": {
            "backgroundcolor": "#E5ECF6",
            "gridcolor": "white",
            "gridwidth": 2,
            "linecolor": "white",
            "showbackground": true,
            "ticks": "",
            "zerolinecolor": "white"
           }
          },
          "shapedefaults": {
           "line": {
            "color": "#2a3f5f"
           }
          },
          "ternary": {
           "aaxis": {
            "gridcolor": "white",
            "linecolor": "white",
            "ticks": ""
           },
           "baxis": {
            "gridcolor": "white",
            "linecolor": "white",
            "ticks": ""
           },
           "bgcolor": "#E5ECF6",
           "caxis": {
            "gridcolor": "white",
            "linecolor": "white",
            "ticks": ""
           }
          },
          "title": {
           "x": 0.05
          },
          "xaxis": {
           "automargin": true,
           "gridcolor": "white",
           "linecolor": "white",
           "ticks": "",
           "title": {
            "standoff": 15
           },
           "zerolinecolor": "white",
           "zerolinewidth": 2
          },
          "yaxis": {
           "automargin": true,
           "gridcolor": "white",
           "linecolor": "white",
           "ticks": "",
           "title": {
            "standoff": 15
           },
           "zerolinecolor": "white",
           "zerolinewidth": 2
          }
         }
        },
        "xaxis": {
         "anchor": "y",
         "domain": [
          0.0,
          0.31999999999999995
         ],
         "title": {
          "text": "k"
         }
        },
        "xaxis2": {
         "anchor": "y2",
         "domain": [
          0.33999999999999997,
          0.6599999999999999
         ],
         "matches": "x",
         "title": {
          "text": "k"
         }
        },
        "xaxis3": {
         "anchor": "y3",
         "domain": [
          0.6799999999999999,
          0.9999999999999999
         ],
         "matches": "x",
         "title": {
          "text": "k"
         }
        },
        "yaxis": {
         "anchor": "x",
         "domain": [
          0.0,
          1.0
         ],
         "title": {
          "text": "value"
         }
        },
        "yaxis2": {
         "anchor": "x2",
         "domain": [
          0.0,
          1.0
         ],
         "matches": "y",
         "showticklabels": false
        },
        "yaxis3": {
         "anchor": "x3",
         "domain": [
          0.0,
          1.0
         ],
         "matches": "y",
         "showticklabels": false
        }
       }
      },
      "text/html": "<div>                            <div id=\"05edb142-81ae-4ede-b9f1-1910227be1b1\" class=\"plotly-graph-div\" style=\"height:525px; width:100%;\"></div>            <script type=\"text/javascript\">                require([\"plotly\"], function(Plotly) {                    window.PLOTLYENV=window.PLOTLYENV || {};                                    if (document.getElementById(\"05edb142-81ae-4ede-b9f1-1910227be1b1\")) {                    Plotly.newPlot(                        \"05edb142-81ae-4ede-b9f1-1910227be1b1\",                        [{\"alignmentgroup\": \"True\", \"hovertemplate\": \"variable=meaningfulness_sts<br>window_size=8<br>k=%{x}<br>value=%{y}<extra></extra>\", \"legendgroup\": \"meaningfulness_sts\", \"marker\": {\"color\": \"#636efa\"}, \"name\": \"meaningfulness_sts\", \"offsetgroup\": \"meaningfulness_sts\", \"orientation\": \"v\", \"showlegend\": true, \"textposition\": \"auto\", \"type\": \"bar\", \"x\": [3, 5, 7, 11], \"xaxis\": \"x\", \"y\": [8.344869077345006e-14, 0.25422596040218515, 0.015234532625827364, 0.2705025524630581], \"yaxis\": \"y\"}, {\"alignmentgroup\": \"True\", \"hovertemplate\": \"variable=meaningfulness_sts<br>window_size=16<br>k=%{x}<br>value=%{y}<extra></extra>\", \"legendgroup\": \"meaningfulness_sts\", \"marker\": {\"color\": \"#636efa\"}, \"name\": \"meaningfulness_sts\", \"offsetgroup\": \"meaningfulness_sts\", \"orientation\": \"v\", \"showlegend\": false, \"textposition\": \"auto\", \"type\": \"bar\", \"x\": [3, 5, 7, 11], \"xaxis\": \"x2\", \"y\": [0.2070272671481339, 0.4979925939715588, 0.5016559848693106, 0.3711492685335204], \"yaxis\": \"y2\"}, {\"alignmentgroup\": \"True\", \"hovertemplate\": \"variable=meaningfulness_sts<br>window_size=32<br>k=%{x}<br>value=%{y}<extra></extra>\", \"legendgroup\": \"meaningfulness_sts\", \"marker\": {\"color\": \"#636efa\"}, \"name\": \"meaningfulness_sts\", \"offsetgroup\": \"meaningfulness_sts\", \"orientation\": \"v\", \"showlegend\": false, \"textposition\": \"auto\", \"type\": \"bar\", \"x\": [3, 5, 7, 11], \"xaxis\": \"x3\", \"y\": [0.2194672527173748, 0.207797657993937, 0.21363085874348453, 0.43080663173070866], \"yaxis\": \"y3\"}, {\"alignmentgroup\": \"True\", \"hovertemplate\": \"variable=meaningfulness_whole<br>window_size=8<br>k=%{x}<br>value=%{y}<extra></extra>\", \"legendgroup\": \"meaningfulness_whole\", \"marker\": {\"color\": \"#EF553B\"}, \"name\": \"meaningfulness_whole\", \"offsetgroup\": \"meaningfulness_whole\", \"orientation\": \"v\", \"showlegend\": true, \"textposition\": \"auto\", \"type\": \"bar\", \"x\": [3, 5, 7, 11], \"xaxis\": \"x\", \"y\": [0.4005978879734342, 0.24180298588787005, 5.901989660196362e-13, 0.3869405279535895], \"yaxis\": \"y\"}, {\"alignmentgroup\": \"True\", \"hovertemplate\": \"variable=meaningfulness_whole<br>window_size=16<br>k=%{x}<br>value=%{y}<extra></extra>\", \"legendgroup\": \"meaningfulness_whole\", \"marker\": {\"color\": \"#EF553B\"}, \"name\": \"meaningfulness_whole\", \"offsetgroup\": \"meaningfulness_whole\", \"orientation\": \"v\", \"showlegend\": false, \"textposition\": \"auto\", \"type\": \"bar\", \"x\": [3, 5, 7, 11], \"xaxis\": \"x2\", \"y\": [0.17859736165530488, 0.6977456490812735, 0.4913808244487586, 0.47329577888024504], \"yaxis\": \"y2\"}, {\"alignmentgroup\": \"True\", \"hovertemplate\": \"variable=meaningfulness_whole<br>window_size=32<br>k=%{x}<br>value=%{y}<extra></extra>\", \"legendgroup\": \"meaningfulness_whole\", \"marker\": {\"color\": \"#EF553B\"}, \"name\": \"meaningfulness_whole\", \"offsetgroup\": \"meaningfulness_whole\", \"orientation\": \"v\", \"showlegend\": false, \"textposition\": \"auto\", \"type\": \"bar\", \"x\": [3, 5, 7, 11], \"xaxis\": \"x3\", \"y\": [1.6820905461584305e-06, 0.6470393137296999, 0.4797312268963865, 0.3388909833571151], \"yaxis\": \"y3\"}],                        {\"annotations\": [{\"font\": {}, \"showarrow\": false, \"text\": \"window_size=8\", \"x\": 0.15999999999999998, \"xanchor\": \"center\", \"xref\": \"paper\", \"y\": 1.0, \"yanchor\": \"bottom\", \"yref\": \"paper\"}, {\"font\": {}, \"showarrow\": false, \"text\": \"window_size=16\", \"x\": 0.49999999999999994, \"xanchor\": \"center\", \"xref\": \"paper\", \"y\": 1.0, \"yanchor\": \"bottom\", \"yref\": \"paper\"}, {\"font\": {}, \"showarrow\": false, \"text\": \"window_size=32\", \"x\": 0.8399999999999999, \"xanchor\": \"center\", \"xref\": \"paper\", \"y\": 1.0, \"yanchor\": \"bottom\", \"yref\": \"paper\"}], \"barmode\": \"group\", \"legend\": {\"title\": {\"text\": \"variable\"}, \"tracegroupgap\": 0}, \"margin\": {\"t\": 60}, \"template\": {\"data\": {\"bar\": [{\"error_x\": {\"color\": \"#2a3f5f\"}, \"error_y\": {\"color\": \"#2a3f5f\"}, \"marker\": {\"line\": {\"color\": \"#E5ECF6\", \"width\": 0.5}}, \"type\": \"bar\"}], \"barpolar\": [{\"marker\": {\"line\": {\"color\": \"#E5ECF6\", \"width\": 0.5}}, \"type\": \"barpolar\"}], \"carpet\": [{\"aaxis\": {\"endlinecolor\": \"#2a3f5f\", \"gridcolor\": \"white\", \"linecolor\": \"white\", \"minorgridcolor\": \"white\", \"startlinecolor\": \"#2a3f5f\"}, \"baxis\": {\"endlinecolor\": \"#2a3f5f\", \"gridcolor\": \"white\", \"linecolor\": \"white\", \"minorgridcolor\": \"white\", \"startlinecolor\": \"#2a3f5f\"}, \"type\": \"carpet\"}], \"choropleth\": [{\"colorbar\": {\"outlinewidth\": 0, \"ticks\": \"\"}, \"type\": \"choropleth\"}], \"contour\": [{\"colorbar\": {\"outlinewidth\": 0, \"ticks\": \"\"}, \"colorscale\": [[0.0, \"#0d0887\"], [0.1111111111111111, \"#46039f\"], [0.2222222222222222, \"#7201a8\"], [0.3333333333333333, \"#9c179e\"], [0.4444444444444444, \"#bd3786\"], [0.5555555555555556, \"#d8576b\"], [0.6666666666666666, \"#ed7953\"], [0.7777777777777778, \"#fb9f3a\"], [0.8888888888888888, \"#fdca26\"], [1.0, \"#f0f921\"]], \"type\": \"contour\"}], \"contourcarpet\": [{\"colorbar\": {\"outlinewidth\": 0, \"ticks\": \"\"}, \"type\": \"contourcarpet\"}], \"heatmap\": [{\"colorbar\": {\"outlinewidth\": 0, \"ticks\": \"\"}, \"colorscale\": [[0.0, \"#0d0887\"], [0.1111111111111111, \"#46039f\"], [0.2222222222222222, \"#7201a8\"], [0.3333333333333333, \"#9c179e\"], [0.4444444444444444, \"#bd3786\"], [0.5555555555555556, \"#d8576b\"], [0.6666666666666666, \"#ed7953\"], [0.7777777777777778, \"#fb9f3a\"], [0.8888888888888888, \"#fdca26\"], [1.0, \"#f0f921\"]], \"type\": \"heatmap\"}], \"heatmapgl\": [{\"colorbar\": {\"outlinewidth\": 0, \"ticks\": \"\"}, \"colorscale\": [[0.0, \"#0d0887\"], [0.1111111111111111, \"#46039f\"], [0.2222222222222222, \"#7201a8\"], [0.3333333333333333, \"#9c179e\"], [0.4444444444444444, \"#bd3786\"], [0.5555555555555556, \"#d8576b\"], [0.6666666666666666, \"#ed7953\"], [0.7777777777777778, \"#fb9f3a\"], [0.8888888888888888, \"#fdca26\"], [1.0, \"#f0f921\"]], \"type\": \"heatmapgl\"}], \"histogram\": [{\"marker\": {\"colorbar\": {\"outlinewidth\": 0, \"ticks\": \"\"}}, \"type\": \"histogram\"}], \"histogram2d\": [{\"colorbar\": {\"outlinewidth\": 0, \"ticks\": \"\"}, \"colorscale\": [[0.0, \"#0d0887\"], [0.1111111111111111, \"#46039f\"], [0.2222222222222222, \"#7201a8\"], [0.3333333333333333, \"#9c179e\"], [0.4444444444444444, \"#bd3786\"], [0.5555555555555556, \"#d8576b\"], [0.6666666666666666, \"#ed7953\"], [0.7777777777777778, \"#fb9f3a\"], [0.8888888888888888, \"#fdca26\"], [1.0, \"#f0f921\"]], \"type\": \"histogram2d\"}], \"histogram2dcontour\": [{\"colorbar\": {\"outlinewidth\": 0, \"ticks\": \"\"}, \"colorscale\": [[0.0, \"#0d0887\"], [0.1111111111111111, \"#46039f\"], [0.2222222222222222, \"#7201a8\"], [0.3333333333333333, \"#9c179e\"], [0.4444444444444444, \"#bd3786\"], [0.5555555555555556, \"#d8576b\"], [0.6666666666666666, \"#ed7953\"], [0.7777777777777778, \"#fb9f3a\"], [0.8888888888888888, \"#fdca26\"], [1.0, \"#f0f921\"]], \"type\": \"histogram2dcontour\"}], \"mesh3d\": [{\"colorbar\": {\"outlinewidth\": 0, \"ticks\": \"\"}, \"type\": \"mesh3d\"}], \"parcoords\": [{\"line\": {\"colorbar\": {\"outlinewidth\": 0, \"ticks\": \"\"}}, \"type\": \"parcoords\"}], \"pie\": [{\"automargin\": true, \"type\": \"pie\"}], \"scatter\": [{\"marker\": {\"colorbar\": {\"outlinewidth\": 0, \"ticks\": \"\"}}, \"type\": \"scatter\"}], \"scatter3d\": [{\"line\": {\"colorbar\": {\"outlinewidth\": 0, \"ticks\": \"\"}}, \"marker\": {\"colorbar\": {\"outlinewidth\": 0, \"ticks\": \"\"}}, \"type\": \"scatter3d\"}], \"scattercarpet\": [{\"marker\": {\"colorbar\": {\"outlinewidth\": 0, \"ticks\": \"\"}}, \"type\": \"scattercarpet\"}], \"scattergeo\": [{\"marker\": {\"colorbar\": {\"outlinewidth\": 0, \"ticks\": \"\"}}, \"type\": \"scattergeo\"}], \"scattergl\": [{\"marker\": {\"colorbar\": {\"outlinewidth\": 0, \"ticks\": \"\"}}, \"type\": \"scattergl\"}], \"scattermapbox\": [{\"marker\": {\"colorbar\": {\"outlinewidth\": 0, \"ticks\": \"\"}}, \"type\": \"scattermapbox\"}], \"scatterpolar\": [{\"marker\": {\"colorbar\": {\"outlinewidth\": 0, \"ticks\": \"\"}}, \"type\": \"scatterpolar\"}], \"scatterpolargl\": [{\"marker\": {\"colorbar\": {\"outlinewidth\": 0, \"ticks\": \"\"}}, \"type\": \"scatterpolargl\"}], \"scatterternary\": [{\"marker\": {\"colorbar\": {\"outlinewidth\": 0, \"ticks\": \"\"}}, \"type\": \"scatterternary\"}], \"surface\": [{\"colorbar\": {\"outlinewidth\": 0, \"ticks\": \"\"}, \"colorscale\": [[0.0, \"#0d0887\"], [0.1111111111111111, \"#46039f\"], [0.2222222222222222, \"#7201a8\"], [0.3333333333333333, \"#9c179e\"], [0.4444444444444444, \"#bd3786\"], [0.5555555555555556, \"#d8576b\"], [0.6666666666666666, \"#ed7953\"], [0.7777777777777778, \"#fb9f3a\"], [0.8888888888888888, \"#fdca26\"], [1.0, \"#f0f921\"]], \"type\": \"surface\"}], \"table\": [{\"cells\": {\"fill\": {\"color\": \"#EBF0F8\"}, \"line\": {\"color\": \"white\"}}, \"header\": {\"fill\": {\"color\": \"#C8D4E3\"}, \"line\": {\"color\": \"white\"}}, \"type\": \"table\"}]}, \"layout\": {\"annotationdefaults\": {\"arrowcolor\": \"#2a3f5f\", \"arrowhead\": 0, \"arrowwidth\": 1}, \"autotypenumbers\": \"strict\", \"coloraxis\": {\"colorbar\": {\"outlinewidth\": 0, \"ticks\": \"\"}}, \"colorscale\": {\"diverging\": [[0, \"#8e0152\"], [0.1, \"#c51b7d\"], [0.2, \"#de77ae\"], [0.3, \"#f1b6da\"], [0.4, \"#fde0ef\"], [0.5, \"#f7f7f7\"], [0.6, \"#e6f5d0\"], [0.7, \"#b8e186\"], [0.8, \"#7fbc41\"], [0.9, \"#4d9221\"], [1, \"#276419\"]], \"sequential\": [[0.0, \"#0d0887\"], [0.1111111111111111, \"#46039f\"], [0.2222222222222222, \"#7201a8\"], [0.3333333333333333, \"#9c179e\"], [0.4444444444444444, \"#bd3786\"], [0.5555555555555556, \"#d8576b\"], [0.6666666666666666, \"#ed7953\"], [0.7777777777777778, \"#fb9f3a\"], [0.8888888888888888, \"#fdca26\"], [1.0, \"#f0f921\"]], \"sequentialminus\": [[0.0, \"#0d0887\"], [0.1111111111111111, \"#46039f\"], [0.2222222222222222, \"#7201a8\"], [0.3333333333333333, \"#9c179e\"], [0.4444444444444444, \"#bd3786\"], [0.5555555555555556, \"#d8576b\"], [0.6666666666666666, \"#ed7953\"], [0.7777777777777778, \"#fb9f3a\"], [0.8888888888888888, \"#fdca26\"], [1.0, \"#f0f921\"]]}, \"colorway\": [\"#636efa\", \"#EF553B\", \"#00cc96\", \"#ab63fa\", \"#FFA15A\", \"#19d3f3\", \"#FF6692\", \"#B6E880\", \"#FF97FF\", \"#FECB52\"], \"font\": {\"color\": \"#2a3f5f\"}, \"geo\": {\"bgcolor\": \"white\", \"lakecolor\": \"white\", \"landcolor\": \"#E5ECF6\", \"showlakes\": true, \"showland\": true, \"subunitcolor\": \"white\"}, \"hoverlabel\": {\"align\": \"left\"}, \"hovermode\": \"closest\", \"mapbox\": {\"style\": \"light\"}, \"paper_bgcolor\": \"white\", \"plot_bgcolor\": \"#E5ECF6\", \"polar\": {\"angularaxis\": {\"gridcolor\": \"white\", \"linecolor\": \"white\", \"ticks\": \"\"}, \"bgcolor\": \"#E5ECF6\", \"radialaxis\": {\"gridcolor\": \"white\", \"linecolor\": \"white\", \"ticks\": \"\"}}, \"scene\": {\"xaxis\": {\"backgroundcolor\": \"#E5ECF6\", \"gridcolor\": \"white\", \"gridwidth\": 2, \"linecolor\": \"white\", \"showbackground\": true, \"ticks\": \"\", \"zerolinecolor\": \"white\"}, \"yaxis\": {\"backgroundcolor\": \"#E5ECF6\", \"gridcolor\": \"white\", \"gridwidth\": 2, \"linecolor\": \"white\", \"showbackground\": true, \"ticks\": \"\", \"zerolinecolor\": \"white\"}, \"zaxis\": {\"backgroundcolor\": \"#E5ECF6\", \"gridcolor\": \"white\", \"gridwidth\": 2, \"linecolor\": \"white\", \"showbackground\": true, \"ticks\": \"\", \"zerolinecolor\": \"white\"}}, \"shapedefaults\": {\"line\": {\"color\": \"#2a3f5f\"}}, \"ternary\": {\"aaxis\": {\"gridcolor\": \"white\", \"linecolor\": \"white\", \"ticks\": \"\"}, \"baxis\": {\"gridcolor\": \"white\", \"linecolor\": \"white\", \"ticks\": \"\"}, \"bgcolor\": \"#E5ECF6\", \"caxis\": {\"gridcolor\": \"white\", \"linecolor\": \"white\", \"ticks\": \"\"}}, \"title\": {\"x\": 0.05}, \"xaxis\": {\"automargin\": true, \"gridcolor\": \"white\", \"linecolor\": \"white\", \"ticks\": \"\", \"title\": {\"standoff\": 15}, \"zerolinecolor\": \"white\", \"zerolinewidth\": 2}, \"yaxis\": {\"automargin\": true, \"gridcolor\": \"white\", \"linecolor\": \"white\", \"ticks\": \"\", \"title\": {\"standoff\": 15}, \"zerolinecolor\": \"white\", \"zerolinewidth\": 2}}}, \"xaxis\": {\"anchor\": \"y\", \"domain\": [0.0, 0.31999999999999995], \"title\": {\"text\": \"k\"}}, \"xaxis2\": {\"anchor\": \"y2\", \"domain\": [0.33999999999999997, 0.6599999999999999], \"matches\": \"x\", \"title\": {\"text\": \"k\"}}, \"xaxis3\": {\"anchor\": \"y3\", \"domain\": [0.6799999999999999, 0.9999999999999999], \"matches\": \"x\", \"title\": {\"text\": \"k\"}}, \"yaxis\": {\"anchor\": \"x\", \"domain\": [0.0, 1.0], \"title\": {\"text\": \"value\"}}, \"yaxis2\": {\"anchor\": \"x2\", \"domain\": [0.0, 1.0], \"matches\": \"y\", \"showticklabels\": false}, \"yaxis3\": {\"anchor\": \"x3\", \"domain\": [0.0, 1.0], \"matches\": \"y\", \"showticklabels\": false}},                        {\"responsive\": true}                    ).then(function(){\n                            \nvar gd = document.getElementById('05edb142-81ae-4ede-b9f1-1910227be1b1');\nvar x = new MutationObserver(function (mutations, observer) {{\n        var display = window.getComputedStyle(gd).display;\n        if (!display || display === 'none') {{\n            console.log([gd, 'removed!']);\n            Plotly.purge(gd);\n            observer.disconnect();\n        }}\n}});\n\n// Listen for the removal of the full notebook cells\nvar notebookContainer = gd.closest('#notebook-container');\nif (notebookContainer) {{\n    x.observe(notebookContainer, {childList: true});\n}}\n\n// Listen for the clearing of the current output cell\nvar outputEl = gd.closest('.output');\nif (outputEl) {{\n    x.observe(outputEl, {childList: true});\n}}\n\n                        })                };                });            </script>        </div>"
     },
     "metadata": {},
     "output_type": "display_data"
    }
   ],
   "source": [
    "n = 1\n",
    "r = 3\n",
    "ks = np.array([3,5,7,11])\n",
    "ws = np.array([8,16,32])\n",
    "\n",
    "normalizers = ['none','snd','min-max']\n",
    "cluster_algos = ['kmeans','agglo','gmm']\n",
    "distance_metrics = ['eukl']\n",
    "\n",
    "normalizer = normalizers[2]\n",
    "\n",
    "current_cluster_algo = cluster_algos[2]\n",
    "\n",
    "current_distance_metric = distance_metrics[0]\n",
    "#reduces de sampling size of the random sampled subsequences that are used for whole clustering\n",
    "#if false the random samples matrix has the same height as the sts matrix\n",
    "reduced_sampling_size = True\n",
    "\n",
    "meaningfulness_sts = []\n",
    "meaningfulness_whole = []\n",
    "random_walk = create_random_walk(np_spx_short)\n",
    "\n",
    "print(\"n: \"+str(n)+\", r: \"+str(r))\n",
    "for k in ks:\n",
    "    for w in ws:\n",
    "        sts,whole = calculate_meaningfulness(ts=np_spx_short, random_walk=random_walk, n=n, k=k, w=w, r=r,\n",
    "                                             normalizer=normalizer, dist_metric_name=current_distance_metric,\n",
    "                                             cluster_algor_name=current_cluster_algo, reduced_sampling_size=reduced_sampling_size)\n",
    "        meaningfulness_sts.append([w,k,sts])\n",
    "        meaningfulness_whole.append([w,k,whole])\n",
    "        print(\"k=\"+str(k)+\", w=\"+str(w)+\" -- STS: \"+str(sts)+\", Whole: \"+str(whole)+\"\")\n",
    "\n",
    "df_sts = pd.DataFrame(meaningfulness_sts, columns=['window_size','k','meaningfulness_sts'])\n",
    "df_whole = pd.DataFrame(meaningfulness_whole, columns=['window_size','k','meaningfulness_whole'])\n",
    "\n",
    "join_keys = ['window_size','k']\n",
    "df_meaningfulness = pd.merge(left=df_sts, right=df_whole, right_on=join_keys, left_on=join_keys)\n",
    "display(df_meaningfulness)\n",
    "\n",
    "df = df_meaningfulness.melt(id_vars=['window_size', 'k'])\n",
    "px.bar(df, x='k', y='value', color='variable', barmode='group', facet_col='window_size')\n",
    "\n",
    "\n",
    "\n",
    "\n",
    "\n"
   ],
   "metadata": {
    "collapsed": false,
    "pycharm": {
     "name": "#%%\n"
    }
   }
  }
 ],
 "metadata": {
  "kernelspec": {
   "display_name": "Python 3",
   "language": "python",
   "name": "python3"
  },
  "language_info": {
   "codemirror_mode": {
    "name": "ipython",
    "version": 2
   },
   "file_extension": ".py",
   "mimetype": "text/x-python",
   "name": "python",
   "nbconvert_exporter": "python",
   "pygments_lexer": "ipython2",
   "version": "2.7.6"
  }
 },
 "nbformat": 4,
 "nbformat_minor": 0
}