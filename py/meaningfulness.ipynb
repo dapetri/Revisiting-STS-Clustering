{
 "cells": [
  {
   "cell_type": "code",
   "execution_count": 16,
   "metadata": {
    "collapsed": true,
    "pycharm": {
     "name": "#%%\n"
    }
   },
   "outputs": [],
   "source": [
    "from functools import reduce\n",
    "\n",
    "import numpy as np\n",
    "import pandas as pd\n",
    "import matplotlib.pyplot as plt\n",
    "from numpy.random import randint\n",
    "from random import seed,random\n",
    "import plotly.express as px\n",
    "from IPython.display import display\n",
    "from pandas import DataFrame\n",
    "from sklearn.cluster import KMeans"
   ]
  },
  {
   "cell_type": "code",
   "execution_count": 17,
   "outputs": [
    {
     "data": {
      "text/plain": "<Figure size 432x288 with 1 Axes>",
      "image/png": "[encoded data removed]"
     },
     "metadata": {
      "needs_background": "light"
     },
     "output_type": "display_data"
    }
   ],
   "source": [
    "from sklearn.preprocessing import MinMaxScaler, StandardScaler\n",
    "\n",
    "spx_short = pd.read_csv('../data/spx_daily_11-21.csv', usecols=[0,1])\n",
    "spx_short['Close/Last']=spx_short['Close/Last'].astype(int)\n",
    "spx_short=spx_short.iloc[::-1]\n",
    "spx_short.plot(x='Date', y='Close/Last')\n",
    "plt.show()\n",
    "\n",
    "np_spx_short = spx_short['Close/Last'].to_numpy()"
   ],
   "metadata": {
    "collapsed": false,
    "pycharm": {
     "name": "#%%\n"
    }
   }
  },
  {
   "cell_type": "code",
   "execution_count": 18,
   "outputs": [],
   "source": [
    "def create_random_walk(ts: np.array):\n",
    "    \"\"\"\n",
    "\n",
    "    :param ts:\n",
    "    :return:\n",
    "    \"\"\"\n",
    "    ma = np.amax(ts)\n",
    "    mi = np.amin(ts)\n",
    "    seed(randint(mi,ma))\n",
    "    random_walk = list()\n",
    "\n",
    "    random_walk.append(randint(mi,ma))\n",
    "    for i in range(1, ts.shape[0]):\n",
    "\t    r = randint(0,9)\n",
    "\t    movement = r if random() < 0.5 else -r\n",
    "\t    value = random_walk[i-1] + movement\n",
    "\t    random_walk.append(value)\n",
    "\n",
    "    return np.array(random_walk)"
   ],
   "metadata": {
    "collapsed": false,
    "pycharm": {
     "name": "#%%\n"
    }
   }
  },
  {
   "cell_type": "code",
   "execution_count": 19,
   "outputs": [],
   "source": [
    "def to_sts_matrix(ts: np.array, w: int):\n",
    "    shape = ts.shape[:-1] + (ts.shape[-1] - w + 1, w)\n",
    "    strides = ts.strides + (ts.strides[-1],)\n",
    "    return np.lib.stride_tricks.as_strided(ts, shape=shape, strides=strides)\n",
    "\n",
    "\n",
    "def to_random_sampling_matrix(ts: np.array, w: int):\n",
    "    m = ts.shape[0]\n",
    "    data_matrix = np.zeros((m - w + 1, w), dtype=int)\n",
    "\n",
    "    for i in range(m - w + 1):\n",
    "        r = randint(0, m - w)\n",
    "        for j in range(w):\n",
    "            data_matrix[i][j] = ts[r+j]\n",
    "\n",
    "    return data_matrix"
   ],
   "metadata": {
    "collapsed": false,
    "pycharm": {
     "name": "#%%\n"
    }
   }
  },
  {
   "cell_type": "code",
   "execution_count": 20,
   "outputs": [],
   "source": [
    "def euclidean_cluster_distance(a: np.array, b: np.array):\n",
    "    \"\"\"\n",
    "\n",
    "    :param a: cluster centres derived from one run of clustering algor (shape: [k,w])\n",
    "    :param b: cluster centres derived from different run of clustering algor (shape: [k,w])\n",
    "    :return:\n",
    "    \"\"\"\n",
    "    assert a.shape[1] != 0\n",
    "    summ = 0\n",
    "    n = a.shape[0]\n",
    "    # for i in range(n):\n",
    "    #     f = lambda x: np.linalg.norm(a[i]-x)\n",
    "    #     summ += np.amin(f(b))\n",
    "\n",
    "    # for i in range(n):\n",
    "    #     minn = float('inf')\n",
    "    #     for j in range(n):\n",
    "    #         d = np.linalg.norm(a[i]-b[j])\n",
    "    #         if d < minn:\n",
    "    #             minn = d\n",
    "    #     summ += minn\n",
    "\n",
    "    for i in range(n):\n",
    "        f = lambda x: np.linalg.norm(a[i]-x)\n",
    "        summ += np.amin(np.array(list(map(f,b))))\n",
    "\n",
    "    # for i in range(n):\n",
    "    #     f = lambda x: np.linalg.norm(a[i]-x)\n",
    "    #     vfunc = np.vectorize(f)\n",
    "    #     print(vfunc(b))\n",
    "    #     summ += np.amin(vfunc(b))\n",
    "\n",
    "    return summ\n",
    "\n",
    "\n",
    "def within_set_distance(x: np.array):\n",
    "    \"\"\"\n",
    "\n",
    "    :param x: set of cluster centers (shape: [n,k,w])\n",
    "    :return:\n",
    "    \"\"\"\n",
    "    n = x.shape[0]\n",
    "    summ = 0\n",
    "    for i in range(n):\n",
    "        for j in range(n):\n",
    "            summ += euclidean_cluster_distance(x[i], x[j])\n",
    "    return summ/n**2\n",
    "\n",
    "\n",
    "def between_set_distance(x: np.array, y: np.array):\n",
    "    \"\"\"\n",
    "\n",
    "    :param x:\n",
    "    :param y:\n",
    "    :return:\n",
    "    \"\"\"\n",
    "    n = x.shape[0]\n",
    "    m = y.shape[0]\n",
    "    summ = 0\n",
    "    for i in range(n):\n",
    "        for j in range(m):\n",
    "            summ += euclidean_cluster_distance(x[i], y[j])\n",
    "    return summ/(n*m)\n",
    "\n",
    "\n",
    "def clustering_meaningfulness(x: np.array, y: np.array):\n",
    "    \"\"\"\n",
    "\n",
    "    :param x:\n",
    "    :param y:\n",
    "    :return:\n",
    "    \"\"\"\n",
    "    return within_set_distance(x)/between_set_distance(x,y)"
   ],
   "metadata": {
    "collapsed": false,
    "pycharm": {
     "name": "#%%\n"
    }
   }
  },
  {
   "cell_type": "code",
   "execution_count": 21,
   "outputs": [],
   "source": [
    "def calculate_kmeans_meaningfulness(ts: np.array, random_walk: np.array, n: int, k: int, w: int, r: int):\n",
    "    \"\"\"\n",
    "\n",
    "    :param random_walk:\n",
    "    :param ts:\n",
    "    :param n:\n",
    "    :param k:\n",
    "    :param w:\n",
    "    :param r:\n",
    "    :return:\n",
    "    \"\"\"\n",
    "    normalizer = \"min-max\"\n",
    "    meaningfulness_sts = 0\n",
    "    meaningfulness_whole = 0\n",
    "\n",
    "    sts_ts_matrix = to_sts_matrix(ts, w)\n",
    "    sts_ts_matrix = scale_feature_matrix(sts_ts_matrix, normalizer)\n",
    "\n",
    "    whole_ts_matrix = to_random_sampling_matrix(ts, w)\n",
    "    whole_ts_matrix = scale_feature_matrix(whole_ts_matrix, normalizer)\n",
    "\n",
    "    sts_random_matrix = to_sts_matrix(random_walk, w)\n",
    "    sts_random_matrix = scale_feature_matrix(sts_random_matrix, normalizer)\n",
    "\n",
    "    whole_random_matrix = to_random_sampling_matrix(random_walk, w)\n",
    "    whole_random_matrix = scale_feature_matrix(whole_random_matrix, normalizer)\n",
    "\n",
    "    for z in range(n):\n",
    "        sts_ts_kmeans_centers = np.zeros((r,k,w))\n",
    "        whole_ts_kmeans_centers = np.zeros((r,k,w))\n",
    "        sts_random_kmeans_centers = np.zeros((r,k,w))\n",
    "        whole_random_kmeans_centers = np.zeros((r,k,w))\n",
    "\n",
    "        for i in range(r):\n",
    "            sts_ts_kmeans_centers[i] = KMeans(n_clusters=k).fit(sts_ts_matrix).cluster_centers_\n",
    "            whole_ts_kmeans_centers[i] = KMeans(n_clusters=k).fit(whole_ts_matrix).cluster_centers_\n",
    "            sts_random_kmeans_centers[i] = KMeans(n_clusters=k).fit(sts_random_matrix).cluster_centers_\n",
    "            whole_random_kmeans_centers[i] = KMeans(n_clusters=k).fit(whole_random_matrix).cluster_centers_\n",
    "\n",
    "        meaningfulness_sts += clustering_meaningfulness(sts_ts_kmeans_centers, sts_random_kmeans_centers)\n",
    "        meaningfulness_whole += clustering_meaningfulness(whole_ts_kmeans_centers, whole_random_kmeans_centers)\n",
    "\n",
    "    return meaningfulness_sts/n, meaningfulness_whole/n"
   ],
   "metadata": {
    "collapsed": false,
    "pycharm": {
     "name": "#%%\n"
    }
   }
  },
  {
   "cell_type": "code",
   "execution_count": 22,
   "outputs": [],
   "source": [
    "def scale_feature_matrix(m: np.array, typ=\"none\"):\n",
    "    if typ == \"none\":\n",
    "        return m\n",
    "    if typ == \"snd\":\n",
    "        scaler = StandardScaler()\n",
    "        return scaler.fit_transform(m)\n",
    "    if typ == \"min-max\":\n",
    "        scaler = MinMaxScaler()\n",
    "        return scaler.fit_transform(m)"
   ],
   "metadata": {
    "collapsed": false,
    "pycharm": {
     "name": "#%%\n"
    }
   }
  },
  {
   "cell_type": "code",
   "execution_count": 23,
   "outputs": [
    {
     "name": "stdout",
     "output_type": "stream",
     "text": [
      "n: 1, r: 3\n",
      "k=3, w=8 -- STS: 0.0004905844177480197, Whole: 2.34121201270088e-16\n",
      "k=3, w=16 -- STS: 1.3118584586166648e-16, Whole: 1.7909210658595686e-16\n",
      "k=3, w=32 -- STS: 2.8232526862436354e-17, Whole: 2.561768782072539e-16\n",
      "k=5, w=8 -- STS: 0.007006813965215076, Whole: 3.455583535198077e-16\n",
      "k=5, w=16 -- STS: 3.5421260814129754e-16, Whole: 1.320127767159035e-15\n",
      "k=5, w=32 -- STS: 0.015227433918059273, Whole: 9.389431936662997e-16\n",
      "k=7, w=8 -- STS: 1.1017084620864088e-16, Whole: 0.002699241484867289\n",
      "k=7, w=16 -- STS: 0.003255994782843494, Whole: 8.762364298402963e-16\n",
      "k=7, w=32 -- STS: 0.0065349357726183725, Whole: 9.620153880235929e-16\n",
      "k=11, w=8 -- STS: 0.041143083972746734, Whole: 0.11353324105912092\n",
      "k=11, w=16 -- STS: 0.010874498934546018, Whole: 0.10847061882742336\n",
      "k=11, w=32 -- STS: 0.01032492279437296, Whole: 0.05158463624378459\n"
     ]
    },
    {
     "data": {
      "text/plain": "    window_size   k  meaningfulness_sts  meaningfulness_whole\n0             8   3        4.905844e-04          2.341212e-16\n1            16   3        1.311858e-16          1.790921e-16\n2            32   3        2.823253e-17          2.561769e-16\n3             8   5        7.006814e-03          3.455584e-16\n4            16   5        3.542126e-16          1.320128e-15\n5            32   5        1.522743e-02          9.389432e-16\n6             8   7        1.101708e-16          2.699241e-03\n7            16   7        3.255995e-03          8.762364e-16\n8            32   7        6.534936e-03          9.620154e-16\n9             8  11        4.114308e-02          1.135332e-01\n10           16  11        1.087450e-02          1.084706e-01\n11           32  11        1.032492e-02          5.158464e-02",
      "text/html": "<div>\n<style scoped>\n    .dataframe tbody tr th:only-of-type {\n        vertical-align: middle;\n    }\n\n    .dataframe tbody tr th {\n        vertical-align: top;\n    }\n\n    .dataframe thead th {\n        text-align: right;\n    }\n</style>\n<table border=\"1\" class=\"dataframe\">\n  <thead>\n    <tr style=\"text-align: right;\">\n      <th></th>\n      <th>window_size</th>\n      <th>k</th>\n      <th>meaningfulness_sts</th>\n      <th>meaningfulness_whole</th>\n    </tr>\n  </thead>\n  <tbody>\n    <tr>\n      <th>0</th>\n      <td>8</td>\n      <td>3</td>\n      <td>4.905844e-04</td>\n      <td>2.341212e-16</td>\n    </tr>\n    <tr>\n      <th>1</th>\n      <td>16</td>\n      <td>3</td>\n      <td>1.311858e-16</td>\n      <td>1.790921e-16</td>\n    </tr>\n    <tr>\n      <th>2</th>\n      <td>32</td>\n      <td>3</td>\n      <td>2.823253e-17</td>\n      <td>2.561769e-16</td>\n    </tr>\n    <tr>\n      <th>3</th>\n      <td>8</td>\n      <td>5</td>\n      <td>7.006814e-03</td>\n      <td>3.455584e-16</td>\n    </tr>\n    <tr>\n      <th>4</th>\n      <td>16</td>\n      <td>5</td>\n      <td>3.542126e-16</td>\n      <td>1.320128e-15</td>\n    </tr>\n    <tr>\n      <th>5</th>\n      <td>32</td>\n      <td>5</td>\n      <td>1.522743e-02</td>\n      <td>9.389432e-16</td>\n    </tr>\n    <tr>\n      <th>6</th>\n      <td>8</td>\n      <td>7</td>\n      <td>1.101708e-16</td>\n      <td>2.699241e-03</td>\n    </tr>\n    <tr>\n      <th>7</th>\n      <td>16</td>\n      <td>7</td>\n      <td>3.255995e-03</td>\n      <td>8.762364e-16</td>\n    </tr>\n    <tr>\n      <th>8</th>\n      <td>32</td>\n      <td>7</td>\n      <td>6.534936e-03</td>\n      <td>9.620154e-16</td>\n    </tr>\n    <tr>\n      <th>9</th>\n      <td>8</td>\n      <td>11</td>\n      <td>4.114308e-02</td>\n      <td>1.135332e-01</td>\n    </tr>\n    <tr>\n      <th>10</th>\n      <td>16</td>\n      <td>11</td>\n      <td>1.087450e-02</td>\n      <td>1.084706e-01</td>\n    </tr>\n    <tr>\n      <th>11</th>\n      <td>32</td>\n      <td>11</td>\n      <td>1.032492e-02</td>\n      <td>5.158464e-02</td>\n    </tr>\n  </tbody>\n</table>\n</div>"
     },
     "metadata": {},
     "output_type": "display_data"
    },
    {
     "data": {
      "application/vnd.plotly.v1+json": {
       "config": {
        "plotlyServerURL": "https://plot.ly"
       },
       "data": [
        {
         "alignmentgroup": "True",
         "hovertemplate": "variable=meaningfulness_sts<br>window_size=8<br>k=%{x}<br>value=%{y}<extra></extra>",
         "legendgroup": "meaningfulness_sts",
         "marker": {
          "color": "#636efa"
         },
         "name": "meaningfulness_sts",
         "offsetgroup": "meaningfulness_sts",
         "orientation": "v",
         "showlegend": true,
         "textposition": "auto",
         "type": "bar",
         "x": [
          3,
          5,
          7,
          11
         ],
         "xaxis": "x",
         "y": [
          4.905844177480197E-4,
          0.007006813965215076,
          1.1017084620864088E-16,
          0.041143083972746734
         ],
         "yaxis": "y"
        },
        {
         "alignmentgroup": "True",
         "hovertemplate": "variable=meaningfulness_sts<br>window_size=16<br>k=%{x}<br>value=%{y}<extra></extra>",
         "legendgroup": "meaningfulness_sts",
         "marker": {
          "color": "#636efa"
         },
         "name": "meaningfulness_sts",
         "offsetgroup": "meaningfulness_sts",
         "orientation": "v",
         "showlegend": false,
         "textposition": "auto",
         "type": "bar",
         "x": [
          3,
          5,
          7,
          11
         ],
         "xaxis": "x2",
         "y": [
          1.3118584586166648E-16,
          3.5421260814129754E-16,
          0.003255994782843494,
          0.010874498934546018
         ],
         "yaxis": "y2"
        },
        {
         "alignmentgroup": "True",
         "hovertemplate": "variable=meaningfulness_sts<br>window_size=32<br>k=%{x}<br>value=%{y}<extra></extra>",
         "legendgroup": "meaningfulness_sts",
         "marker": {
          "color": "#636efa"
         },
         "name": "meaningfulness_sts",
         "offsetgroup": "meaningfulness_sts",
         "orientation": "v",
         "showlegend": false,
         "textposition": "auto",
         "type": "bar",
         "x": [
          3,
          5,
          7,
          11
         ],
         "xaxis": "x3",
         "y": [
          2.8232526862436354E-17,
          0.015227433918059273,
          0.0065349357726183725,
          0.01032492279437296
         ],
         "yaxis": "y3"
        },
        {
         "alignmentgroup": "True",
         "hovertemplate": "variable=meaningfulness_whole<br>window_size=8<br>k=%{x}<br>value=%{y}<extra></extra>",
         "legendgroup": "meaningfulness_whole",
         "marker": {
          "color": "#EF553B"
         },
         "name": "meaningfulness_whole",
         "offsetgroup": "meaningfulness_whole",
         "orientation": "v",
         "showlegend": true,
         "textposition": "auto",
         "type": "bar",
         "x": [
          3,
          5,
          7,
          11
         ],
         "xaxis": "x",
         "y": [
          2.34121201270088E-16,
          3.455583535198077E-16,
          0.002699241484867289,
          0.11353324105912092
         ],
         "yaxis": "y"
        },
        {
         "alignmentgroup": "True",
         "hovertemplate": "variable=meaningfulness_whole<br>window_size=16<br>k=%{x}<br>value=%{y}<extra></extra>",
         "legendgroup": "meaningfulness_whole",
         "marker": {
          "color": "#EF553B"
         },
         "name": "meaningfulness_whole",
         "offsetgroup": "meaningfulness_whole",
         "orientation": "v",
         "showlegend": false,
         "textposition": "auto",
         "type": "bar",
         "x": [
          3,
          5,
          7,
          11
         ],
         "xaxis": "x2",
         "y": [
          1.7909210658595686E-16,
          1.320127767159035E-15,
          8.762364298402963E-16,
          0.10847061882742336
         ],
         "yaxis": "y2"
        },
        {
         "alignmentgroup": "True",
         "hovertemplate": "variable=meaningfulness_whole<br>window_size=32<br>k=%{x}<br>value=%{y}<extra></extra>",
         "legendgroup": "meaningfulness_whole",
         "marker": {
          "color": "#EF553B"
         },
         "name": "meaningfulness_whole",
         "offsetgroup": "meaningfulness_whole",
         "orientation": "v",
         "showlegend": false,
         "textposition": "auto",
         "type": "bar",
         "x": [
          3,
          5,
          7,
          11
         ],
         "xaxis": "x3",
         "y": [
          2.561768782072539E-16,
          9.389431936662997E-16,
          9.620153880235929E-16,
          0.05158463624378459
         ],
         "yaxis": "y3"
        }
       ],
       "layout": {
        "annotations": [
         {
          "font": {},
          "showarrow": false,
          "text": "window_size=8",
          "x": 0.15999999999999998,
          "xanchor": "center",
          "xref": "paper",
          "y": 1.0,
          "yanchor": "bottom",
          "yref": "paper"
         },
         {
          "font": {},
          "showarrow": false,
          "text": "window_size=16",
          "x": 0.49999999999999994,
          "xanchor": "center",
          "xref": "paper",
          "y": 1.0,
          "yanchor": "bottom",
          "yref": "paper"
         },
         {
          "font": {},
          "showarrow": false,
          "text": "window_size=32",
          "x": 0.8399999999999999,
          "xanchor": "center",
          "xref": "paper",
          "y": 1.0,
          "yanchor": "bottom",
          "yref": "paper"
         }
        ],
        "barmode": "group",
        "legend": {
         "title": {
          "text": "variable"
         },
         "tracegroupgap": 0
        },
        "margin": {
         "t": 60
        },
        "template": {
         "data": {
          "bar": [
           {
            "error_x": {
             "color": "#2a3f5f"
            },
            "error_y": {
             "color": "#2a3f5f"
            },
            "marker": {
             "line": {
              "color": "#E5ECF6",
              "width": 0.5
             }
            },
            "type": "bar"
           }
          ],
          "barpolar": [
           {
            "marker": {
             "line": {
              "color": "#E5ECF6",
              "width": 0.5
             }
            },
            "type": "barpolar"
           }
          ],
          "carpet": [
           {
            "aaxis": {
             "endlinecolor": "#2a3f5f",
             "gridcolor": "white",
             "linecolor": "white",
             "minorgridcolor": "white",
             "startlinecolor": "#2a3f5f"
            },
            "baxis": {
             "endlinecolor": "#2a3f5f",
             "gridcolor": "white",
             "linecolor": "white",
             "minorgridcolor": "white",
             "startlinecolor": "#2a3f5f"
            },
            "type": "carpet"
           }
          ],
          "choropleth": [
           {
            "colorbar": {
             "outlinewidth": 0,
             "ticks": ""
            },
            "type": "choropleth"
           }
          ],
          "contour": [
           {
            "colorbar": {
             "outlinewidth": 0,
             "ticks": ""
            },
            "colorscale": [
             [
              0.0,
              "#0d0887"
             ],
             [
              0.1111111111111111,
              "#46039f"
             ],
             [
              0.2222222222222222,
              "#7201a8"
             ],
             [
              0.3333333333333333,
              "#9c179e"
             ],
             [
              0.4444444444444444,
              "#bd3786"
             ],
             [
              0.5555555555555556,
              "#d8576b"
             ],
             [
              0.6666666666666666,
              "#ed7953"
             ],
             [
              0.7777777777777778,
              "#fb9f3a"
             ],
             [
              0.8888888888888888,
              "#fdca26"
             ],
             [
              1.0,
              "#f0f921"
             ]
            ],
            "type": "contour"
           }
          ],
          "contourcarpet": [
           {
            "colorbar": {
             "outlinewidth": 0,
             "ticks": ""
            },
            "type": "contourcarpet"
           }
          ],
          "heatmap": [
           {
            "colorbar": {
             "outlinewidth": 0,
             "ticks": ""
            },
            "colorscale": [
             [
              0.0,
              "#0d0887"
             ],
             [
              0.1111111111111111,
              "#46039f"
             ],
             [
              0.2222222222222222,
              "#7201a8"
             ],
             [
              0.3333333333333333,
              "#9c179e"
             ],
             [
              0.4444444444444444,
              "#bd3786"
             ],
             [
              0.5555555555555556,
              "#d8576b"
             ],
             [
              0.6666666666666666,
              "#ed7953"
             ],
             [
              0.7777777777777778,
              "#fb9f3a"
             ],
             [
              0.8888888888888888,
              "#fdca26"
             ],
             [
              1.0,
              "#f0f921"
             ]
            ],
            "type": "heatmap"
           }
          ],
          "heatmapgl": [
           {
            "colorbar": {
             "outlinewidth": 0,
             "ticks": ""
            },
            "colorscale": [
             [
              0.0,
              "#0d0887"
             ],
             [
              0.1111111111111111,
              "#46039f"
             ],
             [
              0.2222222222222222,
              "#7201a8"
             ],
             [
              0.3333333333333333,
              "#9c179e"
             ],
             [
              0.4444444444444444,
              "#bd3786"
             ],
             [
              0.5555555555555556,
              "#d8576b"
             ],
             [
              0.6666666666666666,
              "#ed7953"
             ],
             [
              0.7777777777777778,
              "#fb9f3a"
             ],
             [
              0.8888888888888888,
              "#fdca26"
             ],
             [
              1.0,
              "#f0f921"
             ]
            ],
            "type": "heatmapgl"
           }
          ],
          "histogram": [
           {
            "marker": {
             "colorbar": {
              "outlinewidth": 0,
              "ticks": ""
             }
            },
            "type": "histogram"
           }
          ],
          "histogram2d": [
           {
            "colorbar": {
             "outlinewidth": 0,
             "ticks": ""
            },
            "colorscale": [
             [
              0.0,
              "#0d0887"
             ],
             [
              0.1111111111111111,
              "#46039f"
             ],
             [
              0.2222222222222222,
              "#7201a8"
             ],
             [
              0.3333333333333333,
              "#9c179e"
             ],
             [
              0.4444444444444444,
              "#bd3786"
             ],
             [
              0.5555555555555556,
              "#d8576b"
             ],
             [
              0.6666666666666666,
              "#ed7953"
             ],
             [
              0.7777777777777778,
              "#fb9f3a"
             ],
             [
              0.8888888888888888,
              "#fdca26"
             ],
             [
              1.0,
              "#f0f921"
             ]
            ],
            "type": "histogram2d"
           }
          ],
          "histogram2dcontour": [
           {
            "colorbar": {
             "outlinewidth": 0,
             "ticks": ""
            },
            "colorscale": [
             [
              0.0,
              "#0d0887"
             ],
             [
              0.1111111111111111,
              "#46039f"
             ],
             [
              0.2222222222222222,
              "#7201a8"
             ],
             [
              0.3333333333333333,
              "#9c179e"
             ],
             [
              0.4444444444444444,
              "#bd3786"
             ],
             [
              0.5555555555555556,
              "#d8576b"
             ],
             [
              0.6666666666666666,
              "#ed7953"
             ],
             [
              0.7777777777777778,
              "#fb9f3a"
             ],
             [
              0.8888888888888888,
              "#fdca26"
             ],
             [
              1.0,
              "#f0f921"
             ]
            ],
            "type": "histogram2dcontour"
           }
          ],
          "mesh3d": [
           {
            "colorbar": {
             "outlinewidth": 0,
             "ticks": ""
            },
            "type": "mesh3d"
           }
          ],
          "parcoords": [
           {
            "line": {
             "colorbar": {
              "outlinewidth": 0,
              "ticks": ""
             }
            },
            "type": "parcoords"
           }
          ],
          "pie": [
           {
            "automargin": true,
            "type": "pie"
           }
          ],
          "scatter": [
           {
            "marker": {
             "colorbar": {
              "outlinewidth": 0,
              "ticks": ""
             }
            },
            "type": "scatter"
           }
          ],
          "scatter3d": [
           {
            "line": {
             "colorbar": {
              "outlinewidth": 0,
              "ticks": ""
             }
            },
            "marker": {
             "colorbar": {
              "outlinewidth": 0,
              "ticks": ""
             }
            },
            "type": "scatter3d"
           }
          ],
          "scattercarpet": [
           {
            "marker": {
             "colorbar": {
              "outlinewidth": 0,
              "ticks": ""
             }
            },
            "type": "scattercarpet"
           }
          ],
          "scattergeo": [
           {
            "marker": {
             "colorbar": {
              "outlinewidth": 0,
              "ticks": ""
             }
            },
            "type": "scattergeo"
           }
          ],
          "scattergl": [
           {
            "marker": {
             "colorbar": {
              "outlinewidth": 0,
              "ticks": ""
             }
            },
            "type": "scattergl"
           }
          ],
          "scattermapbox": [
           {
            "marker": {
             "colorbar": {
              "outlinewidth": 0,
              "ticks": ""
             }
            },
            "type": "scattermapbox"
           }
          ],
          "scatterpolar": [
           {
            "marker": {
             "colorbar": {
              "outlinewidth": 0,
              "ticks": ""
             }
            },
            "type": "scatterpolar"
           }
          ],
          "scatterpolargl": [
           {
            "marker": {
             "colorbar": {
              "outlinewidth": 0,
              "ticks": ""
             }
            },
            "type": "scatterpolargl"
           }
          ],
          "scatterternary": [
           {
            "marker": {
             "colorbar": {
              "outlinewidth": 0,
              "ticks": ""
             }
            },
            "type": "scatterternary"
           }
          ],
          "surface": [
           {
            "colorbar": {
             "outlinewidth": 0,
             "ticks": ""
            },
            "colorscale": [
             [
              0.0,
              "#0d0887"
             ],
             [
              0.1111111111111111,
              "#46039f"
             ],
             [
              0.2222222222222222,
              "#7201a8"
             ],
             [
              0.3333333333333333,
              "#9c179e"
             ],
             [
              0.4444444444444444,
              "#bd3786"
             ],
             [
              0.5555555555555556,
              "#d8576b"
             ],
             [
              0.6666666666666666,
              "#ed7953"
             ],
             [
              0.7777777777777778,
              "#fb9f3a"
             ],
             [
              0.8888888888888888,
              "#fdca26"
             ],
             [
              1.0,
              "#f0f921"
             ]
            ],
            "type": "surface"
           }
          ],
          "table": [
           {
            "cells": {
             "fill": {
              "color": "#EBF0F8"
             },
             "line": {
              "color": "white"
             }
            },
            "header": {
             "fill": {
              "color": "#C8D4E3"
             },
             "line": {
              "color": "white"
             }
            },
            "type": "table"
           }
          ]
         },
         "layout": {
          "annotationdefaults": {
           "arrowcolor": "#2a3f5f",
           "arrowhead": 0,
           "arrowwidth": 1
          },
          "autotypenumbers": "strict",
          "coloraxis": {
           "colorbar": {
            "outlinewidth": 0,
            "ticks": ""
           }
          },
          "colorscale": {
           "diverging": [
            [
             0,
             "#8e0152"
            ],
            [
             0.1,
             "#c51b7d"
            ],
            [
             0.2,
             "#de77ae"
            ],
            [
             0.3,
             "#f1b6da"
            ],
            [
             0.4,
             "#fde0ef"
            ],
            [
             0.5,
             "#f7f7f7"
            ],
            [
             0.6,
             "#e6f5d0"
            ],
            [
             0.7,
             "#b8e186"
            ],
            [
             0.8,
             "#7fbc41"
            ],
            [
             0.9,
             "#4d9221"
            ],
            [
             1,
             "#276419"
            ]
           ],
           "sequential": [
            [
             0.0,
             "#0d0887"
            ],
            [
             0.1111111111111111,
             "#46039f"
            ],
            [
             0.2222222222222222,
             "#7201a8"
            ],
            [
             0.3333333333333333,
             "#9c179e"
            ],
            [
             0.4444444444444444,
             "#bd3786"
            ],
            [
             0.5555555555555556,
             "#d8576b"
            ],
            [
             0.6666666666666666,
             "#ed7953"
            ],
            [
             0.7777777777777778,
             "#fb9f3a"
            ],
            [
             0.8888888888888888,
             "#fdca26"
            ],
            [
             1.0,
             "#f0f921"
            ]
           ],
           "sequentialminus": [
            [
             0.0,
             "#0d0887"
            ],
            [
             0.1111111111111111,
             "#46039f"
            ],
            [
             0.2222222222222222,
             "#7201a8"
            ],
            [
             0.3333333333333333,
             "#9c179e"
            ],
            [
             0.4444444444444444,
             "#bd3786"
            ],
            [
             0.5555555555555556,
             "#d8576b"
            ],
            [
             0.6666666666666666,
             "#ed7953"
            ],
            [
             0.7777777777777778,
             "#fb9f3a"
            ],
            [
             0.8888888888888888,
             "#fdca26"
            ],
            [
             1.0,
             "#f0f921"
            ]
           ]
          },
          "colorway": [
           "#636efa",
           "#EF553B",
           "#00cc96",
           "#ab63fa",
           "#FFA15A",
           "#19d3f3",
           "#FF6692",
           "#B6E880",
           "#FF97FF",
           "#FECB52"
          ],
          "font": {
           "color": "#2a3f5f"
          },
          "geo": {
           "bgcolor": "white",
           "lakecolor": "white",
           "landcolor": "#E5ECF6",
           "showlakes": true,
           "showland": true,
           "subunitcolor": "white"
          },
          "hoverlabel": {
           "align": "left"
          },
          "hovermode": "closest",
          "mapbox": {
           "style": "light"
          },
          "paper_bgcolor": "white",
          "plot_bgcolor": "#E5ECF6",
          "polar": {
           "angularaxis": {
            "gridcolor": "white",
            "linecolor": "white",
            "ticks": ""
           },
           "bgcolor": "#E5ECF6",
           "radialaxis": {
            "gridcolor": "white",
            "linecolor": "white",
            "ticks": ""
           }
          },
          "scene": {
           "xaxis": {
            "backgroundcolor": "#E5ECF6",
            "gridcolor": "white",
            "gridwidth": 2,
            "linecolor": "white",
            "showbackground": true,
            "ticks": "",
            "zerolinecolor": "white"
           },
           "yaxis": {
            "backgroundcolor": "#E5ECF6",
            "gridcolor": "white",
            "gridwidth": 2,
            "linecolor": "white",
            "showbackground": true,
            "ticks": "",
            "zerolinecolor": "white"
           },
           "zaxis": {
            "backgroundcolor": "#E5ECF6",
            "gridcolor": "white",
            "gridwidth": 2,
            "linecolor": "white",
            "showbackground": true,
            "ticks": "",
            "zerolinecolor": "white"
           }
          },
          "shapedefaults": {
           "line": {
            "color": "#2a3f5f"
           }
          },
          "ternary": {
           "aaxis": {
            "gridcolor": "white",
            "linecolor": "white",
            "ticks": ""
           },
           "baxis": {
            "gridcolor": "white",
            "linecolor": "white",
            "ticks": ""
           },
           "bgcolor": "#E5ECF6",
           "caxis": {
            "gridcolor": "white",
            "linecolor": "white",
            "ticks": ""
           }
          },
          "title": {
           "x": 0.05
          },
          "xaxis": {
           "automargin": true,
           "gridcolor": "white",
           "linecolor": "white",
           "ticks": "",
           "title": {
            "standoff": 15
           },
           "zerolinecolor": "white",
           "zerolinewidth": 2
          },
          "yaxis": {
           "automargin": true,
           "gridcolor": "white",
           "linecolor": "white",
           "ticks": "",
           "title": {
            "standoff": 15
           },
           "zerolinecolor": "white",
           "zerolinewidth": 2
          }
         }
        },
        "xaxis": {
         "anchor": "y",
         "domain": [
          0.0,
          0.31999999999999995
         ],
         "title": {
          "text": "k"
         }
        },
        "xaxis2": {
         "anchor": "y2",
         "domain": [
          0.33999999999999997,
          0.6599999999999999
         ],
         "matches": "x",
         "title": {
          "text": "k"
         }
        },
        "xaxis3": {
         "anchor": "y3",
         "domain": [
          0.6799999999999999,
          0.9999999999999999
         ],
         "matches": "x",
         "title": {
          "text": "k"
         }
        },
        "yaxis": {
         "anchor": "x",
         "domain": [
          0.0,
          1.0
         ],
         "title": {
          "text": "value"
         }
        },
        "yaxis2": {
         "anchor": "x2",
         "domain": [
          0.0,
          1.0
         ],
         "matches": "y",
         "showticklabels": false
        },
        "yaxis3": {
         "anchor": "x3",
         "domain": [
          0.0,
          1.0
         ],
         "matches": "y",
         "showticklabels": false
        }
       }
      },
      "text/html": "<div>                            <div id=\"c3b616d4-240f-4ece-b7c8-147b83ed5084\" class=\"plotly-graph-div\" style=\"height:525px; width:100%;\"></div>            <script type=\"text/javascript\">                require([\"plotly\"], function(Plotly) {                    window.PLOTLYENV=window.PLOTLYENV || {};                                    if (document.getElementById(\"c3b616d4-240f-4ece-b7c8-147b83ed5084\")) {                    Plotly.newPlot(                        \"c3b616d4-240f-4ece-b7c8-147b83ed5084\",                        [{\"alignmentgroup\": \"True\", \"hovertemplate\": \"variable=meaningfulness_sts<br>window_size=8<br>k=%{x}<br>value=%{y}<extra></extra>\", \"legendgroup\": \"meaningfulness_sts\", \"marker\": {\"color\": \"#636efa\"}, \"name\": \"meaningfulness_sts\", \"offsetgroup\": \"meaningfulness_sts\", \"orientation\": \"v\", \"showlegend\": true, \"textposition\": \"auto\", \"type\": \"bar\", \"x\": [3, 5, 7, 11], \"xaxis\": \"x\", \"y\": [0.0004905844177480197, 0.007006813965215076, 1.1017084620864088e-16, 0.041143083972746734], \"yaxis\": \"y\"}, {\"alignmentgroup\": \"True\", \"hovertemplate\": \"variable=meaningfulness_sts<br>window_size=16<br>k=%{x}<br>value=%{y}<extra></extra>\", \"legendgroup\": \"meaningfulness_sts\", \"marker\": {\"color\": \"#636efa\"}, \"name\": \"meaningfulness_sts\", \"offsetgroup\": \"meaningfulness_sts\", \"orientation\": \"v\", \"showlegend\": false, \"textposition\": \"auto\", \"type\": \"bar\", \"x\": [3, 5, 7, 11], \"xaxis\": \"x2\", \"y\": [1.3118584586166648e-16, 3.5421260814129754e-16, 0.003255994782843494, 0.010874498934546018], \"yaxis\": \"y2\"}, {\"alignmentgroup\": \"True\", \"hovertemplate\": \"variable=meaningfulness_sts<br>window_size=32<br>k=%{x}<br>value=%{y}<extra></extra>\", \"legendgroup\": \"meaningfulness_sts\", \"marker\": {\"color\": \"#636efa\"}, \"name\": \"meaningfulness_sts\", \"offsetgroup\": \"meaningfulness_sts\", \"orientation\": \"v\", \"showlegend\": false, \"textposition\": \"auto\", \"type\": \"bar\", \"x\": [3, 5, 7, 11], \"xaxis\": \"x3\", \"y\": [2.8232526862436354e-17, 0.015227433918059273, 0.0065349357726183725, 0.01032492279437296], \"yaxis\": \"y3\"}, {\"alignmentgroup\": \"True\", \"hovertemplate\": \"variable=meaningfulness_whole<br>window_size=8<br>k=%{x}<br>value=%{y}<extra></extra>\", \"legendgroup\": \"meaningfulness_whole\", \"marker\": {\"color\": \"#EF553B\"}, \"name\": \"meaningfulness_whole\", \"offsetgroup\": \"meaningfulness_whole\", \"orientation\": \"v\", \"showlegend\": true, \"textposition\": \"auto\", \"type\": \"bar\", \"x\": [3, 5, 7, 11], \"xaxis\": \"x\", \"y\": [2.34121201270088e-16, 3.455583535198077e-16, 0.002699241484867289, 0.11353324105912092], \"yaxis\": \"y\"}, {\"alignmentgroup\": \"True\", \"hovertemplate\": \"variable=meaningfulness_whole<br>window_size=16<br>k=%{x}<br>value=%{y}<extra></extra>\", \"legendgroup\": \"meaningfulness_whole\", \"marker\": {\"color\": \"#EF553B\"}, \"name\": \"meaningfulness_whole\", \"offsetgroup\": \"meaningfulness_whole\", \"orientation\": \"v\", \"showlegend\": false, \"textposition\": \"auto\", \"type\": \"bar\", \"x\": [3, 5, 7, 11], \"xaxis\": \"x2\", \"y\": [1.7909210658595686e-16, 1.320127767159035e-15, 8.762364298402963e-16, 0.10847061882742336], \"yaxis\": \"y2\"}, {\"alignmentgroup\": \"True\", \"hovertemplate\": \"variable=meaningfulness_whole<br>window_size=32<br>k=%{x}<br>value=%{y}<extra></extra>\", \"legendgroup\": \"meaningfulness_whole\", \"marker\": {\"color\": \"#EF553B\"}, \"name\": \"meaningfulness_whole\", \"offsetgroup\": \"meaningfulness_whole\", \"orientation\": \"v\", \"showlegend\": false, \"textposition\": \"auto\", \"type\": \"bar\", \"x\": [3, 5, 7, 11], \"xaxis\": \"x3\", \"y\": [2.561768782072539e-16, 9.389431936662997e-16, 9.620153880235929e-16, 0.05158463624378459], \"yaxis\": \"y3\"}],                        {\"annotations\": [{\"font\": {}, \"showarrow\": false, \"text\": \"window_size=8\", \"x\": 0.15999999999999998, \"xanchor\": \"center\", \"xref\": \"paper\", \"y\": 1.0, \"yanchor\": \"bottom\", \"yref\": \"paper\"}, {\"font\": {}, \"showarrow\": false, \"text\": \"window_size=16\", \"x\": 0.49999999999999994, \"xanchor\": \"center\", \"xref\": \"paper\", \"y\": 1.0, \"yanchor\": \"bottom\", \"yref\": \"paper\"}, {\"font\": {}, \"showarrow\": false, \"text\": \"window_size=32\", \"x\": 0.8399999999999999, \"xanchor\": \"center\", \"xref\": \"paper\", \"y\": 1.0, \"yanchor\": \"bottom\", \"yref\": \"paper\"}], \"barmode\": \"group\", \"legend\": {\"title\": {\"text\": \"variable\"}, \"tracegroupgap\": 0}, \"margin\": {\"t\": 60}, \"template\": {\"data\": {\"bar\": [{\"error_x\": {\"color\": \"#2a3f5f\"}, \"error_y\": {\"color\": \"#2a3f5f\"}, \"marker\": {\"line\": {\"color\": \"#E5ECF6\", \"width\": 0.5}}, \"type\": \"bar\"}], \"barpolar\": [{\"marker\": {\"line\": {\"color\": \"#E5ECF6\", \"width\": 0.5}}, \"type\": \"barpolar\"}], \"carpet\": [{\"aaxis\": {\"endlinecolor\": \"#2a3f5f\", \"gridcolor\": \"white\", \"linecolor\": \"white\", \"minorgridcolor\": \"white\", \"startlinecolor\": \"#2a3f5f\"}, \"baxis\": {\"endlinecolor\": \"#2a3f5f\", \"gridcolor\": \"white\", \"linecolor\": \"white\", \"minorgridcolor\": \"white\", \"startlinecolor\": \"#2a3f5f\"}, \"type\": \"carpet\"}], \"choropleth\": [{\"colorbar\": {\"outlinewidth\": 0, \"ticks\": \"\"}, \"type\": \"choropleth\"}], \"contour\": [{\"colorbar\": {\"outlinewidth\": 0, \"ticks\": \"\"}, \"colorscale\": [[0.0, \"#0d0887\"], [0.1111111111111111, \"#46039f\"], [0.2222222222222222, \"#7201a8\"], [0.3333333333333333, \"#9c179e\"], [0.4444444444444444, \"#bd3786\"], [0.5555555555555556, \"#d8576b\"], [0.6666666666666666, \"#ed7953\"], [0.7777777777777778, \"#fb9f3a\"], [0.8888888888888888, \"#fdca26\"], [1.0, \"#f0f921\"]], \"type\": \"contour\"}], \"contourcarpet\": [{\"colorbar\": {\"outlinewidth\": 0, \"ticks\": \"\"}, \"type\": \"contourcarpet\"}], \"heatmap\": [{\"colorbar\": {\"outlinewidth\": 0, \"ticks\": \"\"}, \"colorscale\": [[0.0, \"#0d0887\"], [0.1111111111111111, \"#46039f\"], [0.2222222222222222, \"#7201a8\"], [0.3333333333333333, \"#9c179e\"], [0.4444444444444444, \"#bd3786\"], [0.5555555555555556, \"#d8576b\"], [0.6666666666666666, \"#ed7953\"], [0.7777777777777778, \"#fb9f3a\"], [0.8888888888888888, \"#fdca26\"], [1.0, \"#f0f921\"]], \"type\": \"heatmap\"}], \"heatmapgl\": [{\"colorbar\": {\"outlinewidth\": 0, \"ticks\": \"\"}, \"colorscale\": [[0.0, \"#0d0887\"], [0.1111111111111111, \"#46039f\"], [0.2222222222222222, \"#7201a8\"], [0.3333333333333333, \"#9c179e\"], [0.4444444444444444, \"#bd3786\"], [0.5555555555555556, \"#d8576b\"], [0.6666666666666666, \"#ed7953\"], [0.7777777777777778, \"#fb9f3a\"], [0.8888888888888888, \"#fdca26\"], [1.0, \"#f0f921\"]], \"type\": \"heatmapgl\"}], \"histogram\": [{\"marker\": {\"colorbar\": {\"outlinewidth\": 0, \"ticks\": \"\"}}, \"type\": \"histogram\"}], \"histogram2d\": [{\"colorbar\": {\"outlinewidth\": 0, \"ticks\": \"\"}, \"colorscale\": [[0.0, \"#0d0887\"], [0.1111111111111111, \"#46039f\"], [0.2222222222222222, \"#7201a8\"], [0.3333333333333333, \"#9c179e\"], [0.4444444444444444, \"#bd3786\"], [0.5555555555555556, \"#d8576b\"], [0.6666666666666666, \"#ed7953\"], [0.7777777777777778, \"#fb9f3a\"], [0.8888888888888888, \"#fdca26\"], [1.0, \"#f0f921\"]], \"type\": \"histogram2d\"}], \"histogram2dcontour\": [{\"colorbar\": {\"outlinewidth\": 0, \"ticks\": \"\"}, \"colorscale\": [[0.0, \"#0d0887\"], [0.1111111111111111, \"#46039f\"], [0.2222222222222222, \"#7201a8\"], [0.3333333333333333, \"#9c179e\"], [0.4444444444444444, \"#bd3786\"], [0.5555555555555556, \"#d8576b\"], [0.6666666666666666, \"#ed7953\"], [0.7777777777777778, \"#fb9f3a\"], [0.8888888888888888, \"#fdca26\"], [1.0, \"#f0f921\"]], \"type\": \"histogram2dcontour\"}], \"mesh3d\": [{\"colorbar\": {\"outlinewidth\": 0, \"ticks\": \"\"}, \"type\": \"mesh3d\"}], \"parcoords\": [{\"line\": {\"colorbar\": {\"outlinewidth\": 0, \"ticks\": \"\"}}, \"type\": \"parcoords\"}], \"pie\": [{\"automargin\": true, \"type\": \"pie\"}], \"scatter\": [{\"marker\": {\"colorbar\": {\"outlinewidth\": 0, \"ticks\": \"\"}}, \"type\": \"scatter\"}], \"scatter3d\": [{\"line\": {\"colorbar\": {\"outlinewidth\": 0, \"ticks\": \"\"}}, \"marker\": {\"colorbar\": {\"outlinewidth\": 0, \"ticks\": \"\"}}, \"type\": \"scatter3d\"}], \"scattercarpet\": [{\"marker\": {\"colorbar\": {\"outlinewidth\": 0, \"ticks\": \"\"}}, \"type\": \"scattercarpet\"}], \"scattergeo\": [{\"marker\": {\"colorbar\": {\"outlinewidth\": 0, \"ticks\": \"\"}}, \"type\": \"scattergeo\"}], \"scattergl\": [{\"marker\": {\"colorbar\": {\"outlinewidth\": 0, \"ticks\": \"\"}}, \"type\": \"scattergl\"}], \"scattermapbox\": [{\"marker\": {\"colorbar\": {\"outlinewidth\": 0, \"ticks\": \"\"}}, \"type\": \"scattermapbox\"}], \"scatterpolar\": [{\"marker\": {\"colorbar\": {\"outlinewidth\": 0, \"ticks\": \"\"}}, \"type\": \"scatterpolar\"}], \"scatterpolargl\": [{\"marker\": {\"colorbar\": {\"outlinewidth\": 0, \"ticks\": \"\"}}, \"type\": \"scatterpolargl\"}], \"scatterternary\": [{\"marker\": {\"colorbar\": {\"outlinewidth\": 0, \"ticks\": \"\"}}, \"type\": \"scatterternary\"}], \"surface\": [{\"colorbar\": {\"outlinewidth\": 0, \"ticks\": \"\"}, \"colorscale\": [[0.0, \"#0d0887\"], [0.1111111111111111, \"#46039f\"], [0.2222222222222222, \"#7201a8\"], [0.3333333333333333, \"#9c179e\"], [0.4444444444444444, \"#bd3786\"], [0.5555555555555556, \"#d8576b\"], [0.6666666666666666, \"#ed7953\"], [0.7777777777777778, \"#fb9f3a\"], [0.8888888888888888, \"#fdca26\"], [1.0, \"#f0f921\"]], \"type\": \"surface\"}], \"table\": [{\"cells\": {\"fill\": {\"color\": \"#EBF0F8\"}, \"line\": {\"color\": \"white\"}}, \"header\": {\"fill\": {\"color\": \"#C8D4E3\"}, \"line\": {\"color\": \"white\"}}, \"type\": \"table\"}]}, \"layout\": {\"annotationdefaults\": {\"arrowcolor\": \"#2a3f5f\", \"arrowhead\": 0, \"arrowwidth\": 1}, \"autotypenumbers\": \"strict\", \"coloraxis\": {\"colorbar\": {\"outlinewidth\": 0, \"ticks\": \"\"}}, \"colorscale\": {\"diverging\": [[0, \"#8e0152\"], [0.1, \"#c51b7d\"], [0.2, \"#de77ae\"], [0.3, \"#f1b6da\"], [0.4, \"#fde0ef\"], [0.5, \"#f7f7f7\"], [0.6, \"#e6f5d0\"], [0.7, \"#b8e186\"], [0.8, \"#7fbc41\"], [0.9, \"#4d9221\"], [1, \"#276419\"]], \"sequential\": [[0.0, \"#0d0887\"], [0.1111111111111111, \"#46039f\"], [0.2222222222222222, \"#7201a8\"], [0.3333333333333333, \"#9c179e\"], [0.4444444444444444, \"#bd3786\"], [0.5555555555555556, \"#d8576b\"], [0.6666666666666666, \"#ed7953\"], [0.7777777777777778, \"#fb9f3a\"], [0.8888888888888888, \"#fdca26\"], [1.0, \"#f0f921\"]], \"sequentialminus\": [[0.0, \"#0d0887\"], [0.1111111111111111, \"#46039f\"], [0.2222222222222222, \"#7201a8\"], [0.3333333333333333, \"#9c179e\"], [0.4444444444444444, \"#bd3786\"], [0.5555555555555556, \"#d8576b\"], [0.6666666666666666, \"#ed7953\"], [0.7777777777777778, \"#fb9f3a\"], [0.8888888888888888, \"#fdca26\"], [1.0, \"#f0f921\"]]}, \"colorway\": [\"#636efa\", \"#EF553B\", \"#00cc96\", \"#ab63fa\", \"#FFA15A\", \"#19d3f3\", \"#FF6692\", \"#B6E880\", \"#FF97FF\", \"#FECB52\"], \"font\": {\"color\": \"#2a3f5f\"}, \"geo\": {\"bgcolor\": \"white\", \"lakecolor\": \"white\", \"landcolor\": \"#E5ECF6\", \"showlakes\": true, \"showland\": true, \"subunitcolor\": \"white\"}, \"hoverlabel\": {\"align\": \"left\"}, \"hovermode\": \"closest\", \"mapbox\": {\"style\": \"light\"}, \"paper_bgcolor\": \"white\", \"plot_bgcolor\": \"#E5ECF6\", \"polar\": {\"angularaxis\": {\"gridcolor\": \"white\", \"linecolor\": \"white\", \"ticks\": \"\"}, \"bgcolor\": \"#E5ECF6\", \"radialaxis\": {\"gridcolor\": \"white\", \"linecolor\": \"white\", \"ticks\": \"\"}}, \"scene\": {\"xaxis\": {\"backgroundcolor\": \"#E5ECF6\", \"gridcolor\": \"white\", \"gridwidth\": 2, \"linecolor\": \"white\", \"showbackground\": true, \"ticks\": \"\", \"zerolinecolor\": \"white\"}, \"yaxis\": {\"backgroundcolor\": \"#E5ECF6\", \"gridcolor\": \"white\", \"gridwidth\": 2, \"linecolor\": \"white\", \"showbackground\": true, \"ticks\": \"\", \"zerolinecolor\": \"white\"}, \"zaxis\": {\"backgroundcolor\": \"#E5ECF6\", \"gridcolor\": \"white\", \"gridwidth\": 2, \"linecolor\": \"white\", \"showbackground\": true, \"ticks\": \"\", \"zerolinecolor\": \"white\"}}, \"shapedefaults\": {\"line\": {\"color\": \"#2a3f5f\"}}, \"ternary\": {\"aaxis\": {\"gridcolor\": \"white\", \"linecolor\": \"white\", \"ticks\": \"\"}, \"baxis\": {\"gridcolor\": \"white\", \"linecolor\": \"white\", \"ticks\": \"\"}, \"bgcolor\": \"#E5ECF6\", \"caxis\": {\"gridcolor\": \"white\", \"linecolor\": \"white\", \"ticks\": \"\"}}, \"title\": {\"x\": 0.05}, \"xaxis\": {\"automargin\": true, \"gridcolor\": \"white\", \"linecolor\": \"white\", \"ticks\": \"\", \"title\": {\"standoff\": 15}, \"zerolinecolor\": \"white\", \"zerolinewidth\": 2}, \"yaxis\": {\"automargin\": true, \"gridcolor\": \"white\", \"linecolor\": \"white\", \"ticks\": \"\", \"title\": {\"standoff\": 15}, \"zerolinecolor\": \"white\", \"zerolinewidth\": 2}}}, \"xaxis\": {\"anchor\": \"y\", \"domain\": [0.0, 0.31999999999999995], \"title\": {\"text\": \"k\"}}, \"xaxis2\": {\"anchor\": \"y2\", \"domain\": [0.33999999999999997, 0.6599999999999999], \"matches\": \"x\", \"title\": {\"text\": \"k\"}}, \"xaxis3\": {\"anchor\": \"y3\", \"domain\": [0.6799999999999999, 0.9999999999999999], \"matches\": \"x\", \"title\": {\"text\": \"k\"}}, \"yaxis\": {\"anchor\": \"x\", \"domain\": [0.0, 1.0], \"title\": {\"text\": \"value\"}}, \"yaxis2\": {\"anchor\": \"x2\", \"domain\": [0.0, 1.0], \"matches\": \"y\", \"showticklabels\": false}, \"yaxis3\": {\"anchor\": \"x3\", \"domain\": [0.0, 1.0], \"matches\": \"y\", \"showticklabels\": false}},                        {\"responsive\": true}                    ).then(function(){\n                            \nvar gd = document.getElementById('c3b616d4-240f-4ece-b7c8-147b83ed5084');\nvar x = new MutationObserver(function (mutations, observer) {{\n        var display = window.getComputedStyle(gd).display;\n        if (!display || display === 'none') {{\n            console.log([gd, 'removed!']);\n            Plotly.purge(gd);\n            observer.disconnect();\n        }}\n}});\n\n// Listen for the removal of the full notebook cells\nvar notebookContainer = gd.closest('#notebook-container');\nif (notebookContainer) {{\n    x.observe(notebookContainer, {childList: true});\n}}\n\n// Listen for the clearing of the current output cell\nvar outputEl = gd.closest('.output');\nif (outputEl) {{\n    x.observe(outputEl, {childList: true});\n}}\n\n                        })                };                });            </script>        </div>"
     },
     "metadata": {},
     "output_type": "display_data"
    }
   ],
   "source": [
    "n = 1\n",
    "r = 3\n",
    "ks = np.array([3,5,7,11])\n",
    "ws = np.array([8,16,32])\n",
    "\n",
    "meaningfulness_sts = []\n",
    "meaningfulness_whole = []\n",
    "random_walk = create_random_walk(np_spx_short)\n",
    "\n",
    "print(\"n: \"+str(n)+\", r: \"+str(r))\n",
    "for k in ks:\n",
    "    for w in ws:\n",
    "        sts,whole = calculate_kmeans_meaningfulness(ts=np_spx_short, random_walk=random_walk, n=n, k=k, w=w, r=r)\n",
    "        meaningfulness_sts.append([w,k,sts])\n",
    "        meaningfulness_whole.append([w,k,whole])\n",
    "        print(\"k=\"+str(k)+\", w=\"+str(w)+\" -- STS: \"+str(sts)+\", Whole: \"+str(whole)+\"\")\n",
    "\n",
    "df_sts = pd.DataFrame(meaningfulness_sts, columns=['window_size','k','meaningfulness_sts'])\n",
    "df_whole = pd.DataFrame(meaningfulness_whole, columns=['window_size','k','meaningfulness_whole'])\n",
    "\n",
    "join_keys = ['window_size','k']\n",
    "df_meaningfulness = pd.merge(left=df_sts, right=df_whole, right_on=join_keys, left_on=join_keys)\n",
    "display(df_meaningfulness)\n",
    "\n",
    "df = df_meaningfulness.melt(id_vars=['window_size', 'k'])\n",
    "px.bar(df, x='k', y='value', color='variable', barmode='group', facet_col='window_size')\n",
    "\n"
   ],
   "metadata": {
    "collapsed": false,
    "pycharm": {
     "name": "#%%\n"
    }
   }
  }
 ],
 "metadata": {
  "kernelspec": {
   "display_name": "Python 3",
   "language": "python",
   "name": "python3"
  },
  "language_info": {
   "codemirror_mode": {
    "name": "ipython",
    "version": 2
   },
   "file_extension": ".py",
   "mimetype": "text/x-python",
   "name": "python",
   "nbconvert_exporter": "python",
   "pygments_lexer": "ipython2",
   "version": "2.7.6"
  }
 },
 "nbformat": 4,
 "nbformat_minor": 0
}