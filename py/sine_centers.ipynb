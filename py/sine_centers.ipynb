{
 "cells": [
  {
   "cell_type": "code",
   "execution_count": 17,
   "metadata": {
    "collapsed": true
   },
   "outputs": [],
   "source": [
    "import numpy as np\n",
    "import pandas as pd\n",
    "from pyts.datasets import make_cylinder_bell_funnel"
   ]
  },
  {
   "cell_type": "code",
   "execution_count": 18,
   "outputs": [],
   "source": [
    "from sklearn.cluster import KMeans\n",
    "\n",
    "def to_sts_matrix(ts: np.array, w: int):\n",
    "    shape = ts.shape[:-1] + (ts.shape[-1] - w + 1, w)\n",
    "    strides = ts.strides + (ts.strides[-1],)\n",
    "    return np.lib.stride_tricks.as_strided(ts, shape=shape, strides=strides)"
   ],
   "metadata": {
    "collapsed": false,
    "pycharm": {
     "name": "#%%\n"
    }
   }
  },
  {
   "cell_type": "code",
   "execution_count": 19,
   "outputs": [],
   "source": [
    "def create_concatenated_cbf_ts(tss: np.array) -> np.array:\n",
    "    \"\"\"\n",
    "\n",
    "    :param tss: cbf timeseries (shape: [3*n,128])\n",
    "    :return: concatenated cbf timeseries (shape: [3*n*128])\n",
    "    \"\"\"\n",
    "    return np.ravel(tss)\n"
   ],
   "metadata": {
    "collapsed": false,
    "pycharm": {
     "name": "#%%\n"
    }
   }
  },
  {
   "cell_type": "code",
   "execution_count": 31,
   "outputs": [],
   "source": [
    "n=30\n",
    "k=3\n",
    "w=128\n",
    "idx=np.arange(0,w)\n",
    "\n",
    "cbf,_ = make_cylinder_bell_funnel(n_samples=3*n)\n",
    "\n",
    "cbf_df = pd.DataFrame(cbf.T)\n",
    "cbf_df.to_csv(r'..\\data\\cbf.csv')"
   ],
   "metadata": {
    "collapsed": false,
    "pycharm": {
     "name": "#%%\n"
    }
   }
  },
  {
   "cell_type": "code",
   "execution_count": null,
   "outputs": [],
   "source": [
    "cbf_concat = create_concatenated_cbf_ts(cbf)\n",
    "cbf_sts = to_sts_matrix(cbf_concat,w)\n",
    "\n",
    "whole_centers = KMeans(n_clusters=k).fit(cbf).cluster_centers_\n",
    "sts_centers = KMeans(n_clusters=k).fit(cbf_sts).cluster_centers_\n",
    "\n",
    "whole_df = pd.DataFrame(whole_centers.T,idx)\n",
    "sts_df = pd.DataFrame(sts_centers.T,idx)\n",
    "whole_df.plot()\n",
    "sts_df.plot()\n"
   ],
   "metadata": {
    "collapsed": false,
    "pycharm": {
     "name": "#%%\n"
    }
   }
  },
  {
   "cell_type": "code",
   "execution_count": null,
   "outputs": [],
   "source": [],
   "metadata": {
    "collapsed": false,
    "pycharm": {
     "name": "#%%\n"
    }
   }
  }
 ],
 "metadata": {
  "kernelspec": {
   "display_name": "Python 3",
   "language": "python",
   "name": "python3"
  },
  "language_info": {
   "codemirror_mode": {
    "name": "ipython",
    "version": 2
   },
   "file_extension": ".py",
   "mimetype": "text/x-python",
   "name": "python",
   "nbconvert_exporter": "python",
   "pygments_lexer": "ipython2",
   "version": "2.7.6"
  }
 },
 "nbformat": 4,
 "nbformat_minor": 0
}